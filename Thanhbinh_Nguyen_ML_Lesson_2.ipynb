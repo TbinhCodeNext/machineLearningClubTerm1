{
  "nbformat": 4,
  "nbformat_minor": 0,
  "metadata": {
    "colab": {
      "name": "Thanhbinh Student_ML_Lesson_2.ipynb",
      "provenance": [],
      "collapsed_sections": [],
      "toc_visible": true,
      "include_colab_link": true
    },
    "kernelspec": {
      "name": "python3",
      "display_name": "Python 3"
    }
  },
  "cells": [
    {
      "cell_type": "markdown",
      "metadata": {
        "id": "view-in-github",
        "colab_type": "text"
      },
      "source": [
        "<a href=\"https://colab.research.google.com/github/TbinhCodeNext/machineLearningClubTerm1/blob/main/Thanhbinh_Nguyen_ML_Lesson_2.ipynb\" target=\"_parent\"><img src=\"https://colab.research.google.com/assets/colab-badge.svg\" alt=\"Open In Colab\"/></a>"
      ]
    },
    {
      "cell_type": "markdown",
      "metadata": {
        "id": "BkxmgGMTFb2J"
      },
      "source": [
        "# Google Club Next\n",
        "## Lesson 2 : Conditionals and Decision Trees\n"
      ]
    },
    {
      "cell_type": "markdown",
      "metadata": {
        "id": "lP9FegofmaCP"
      },
      "source": [
        "#### Conditional Operators\n",
        "\n",
        "Let's talk some more about booleans.  \n",
        "In addition to the basic operations from last week there are several \"Conditional\" operations that allow us to compare two variables and return a boolean.\n",
        "\n",
        "* Equals (a == b)\n",
        "* Less than (a < b)\n",
        "* Less than or equal to (a <= b)\n",
        "* Greater than (a > b)\n",
        "* Greater than or equal to (a >= b)\n",
        "* Not equal to (a != b)\n",
        "\n",
        "Each of these operators will return a boolean (True / False) indicating whether the statement is true or false."
      ]
    },
    {
      "cell_type": "code",
      "metadata": {
        "id": "vSCoHlv-mYDG",
        "colab": {
          "base_uri": "https://localhost:8080/",
          "height": 126
        },
        "outputId": "1a445af0-237d-4412-c969-107d354d8543"
      },
      "source": [
        "print (1==2)\n",
        "print(1 <= 2)\n",
        "print(10 == ((5*2**2)/(1+1)))\n",
        "print((8+3) != (19-5))\n",
        "\n",
        "# EXCERCISE\n",
        "# Write your own expression using conditional operations here\n",
        "print(\"The result of your expression is:\")\n",
        "\n",
        "# uncomment these two lines\n",
        "res = 1 <= 3\n",
        "print(res)"
      ],
      "execution_count": null,
      "outputs": [
        {
          "output_type": "stream",
          "text": [
            "False\n",
            "True\n",
            "True\n",
            "True\n",
            "The result of your expression is:\n",
            "True\n"
          ],
          "name": "stdout"
        }
      ]
    },
    {
      "cell_type": "markdown",
      "metadata": {
        "id": "fiAr4TsHpkWq"
      },
      "source": [
        "#### Logical Operators\n",
        "\n",
        "In addition to the conditional operators that compare two variables and return a boolean, there are several logical operators that allow us to compare boolean values to return another boolean.\n",
        "* AND (a and b) : true if both a **and** b are true\n",
        "*OR (a or b) : true if **either** a **or** b is true\n",
        "* NOT (not a) : reverses the value of a\n",
        "\n",
        "Predict the results of the following statement, then write your own statement using logical and conditional operators."
      ]
    },
    {
      "cell_type": "code",
      "metadata": {
        "id": "Or-VcKcqoeHo",
        "colab": {
          "base_uri": "https://localhost:8080/",
          "height": 90
        },
        "outputId": "29c424be-01a4-407a-be58-1a47d79b0066"
      },
      "source": [
        "# EXCERCISE\n",
        "# Add a comment as to whether you think each statement\n",
        "# is true or false. Uncomment out the last two lines\n",
        "# and write your own statement\n",
        "\n",
        "# statement 1\n",
        "print((1==1) or (2==2)) # True\n",
        "\n",
        "# statement 2\n",
        "print( (7+8)==(75/5) and (8%4) == 2) # False\n",
        "\n",
        "# statement 3\n",
        "print(not ((40-20) == ((2+2)*5))) # False\n",
        "\n",
        "res = (10==3) or (21==23)\n",
        "print(res)"
      ],
      "execution_count": null,
      "outputs": [
        {
          "output_type": "stream",
          "text": [
            "True\n",
            "False\n",
            "False\n",
            "False\n"
          ],
          "name": "stdout"
        }
      ]
    },
    {
      "cell_type": "markdown",
      "metadata": {
        "id": "W_EC22MEsAdk"
      },
      "source": [
        "### Control Structures\n",
        "\n",
        "So far whenever we have run our code, it has executed line by line from the top of a block to the bottom.\n",
        "\n",
        "Control structures change the order in which our code is executed allowing some lines to be skipped or some to be repetitively\n",
        "\n",
        "We'll talk about running blocks of code repeatedly when we talk about loops next week. For now, we'll look at how to skip certain sections of our code.\n",
        "\n",
        "#### If Statements\n",
        "```\n",
        "if (condition):\n",
        "  some code\n",
        "```\n",
        " An if statement,is a contains a conditional expression, followed by a block of code. If the conditional expression is true, then the code in the statement runs. If not that code is skipped.\n",
        "\n",
        " The conditional expression can use variables, conditional operators, and logical operators.\n",
        "\n"
      ]
    },
    {
      "cell_type": "code",
      "metadata": {
        "id": "-Nxj3e_Pu5c6",
        "colab": {
          "base_uri": "https://localhost:8080/",
          "height": 54
        },
        "outputId": "9c4df3b8-28cb-47cb-96e0-a55a7417a988"
      },
      "source": [
        "# We are creating a program to help doctors\n",
        "# determine if someone has a fever.\n",
        "# We create a form for doctors to enter a\n",
        "# patient's temperature, and want to use\n",
        "# if statements to print out a result.\n",
        "#\n",
        "# This will prompt you to enter a temperature\n",
        "#@title Fever Test\n",
        "temperature =  130#@param {type:\"number\"}\n",
        "# ---------------------------------------\n",
        "\n",
        "# EDIT BELOW HERE ---------------------\n",
        "if (temperature >= 103): # make sure to include the colon\n",
        "\n",
        "  # Everything in the if block needs to be indented\n",
        "  print(\"You may have a fever\")\n",
        "\n",
        "# Unindent your code to end the if statement\n",
        "print(\"Done\")\n",
        "\n",
        "# EXCERCISE: Edit the form on the right to\n",
        "# so that \"You may have a fever\" is printed"
      ],
      "execution_count": null,
      "outputs": [
        {
          "output_type": "stream",
          "text": [
            "You may have a fever\n",
            "Done\n"
          ],
          "name": "stdout"
        }
      ]
    },
    {
      "cell_type": "markdown",
      "metadata": {
        "id": "BgL52i4eydtS"
      },
      "source": [
        "#### Else Statement\n",
        "\n",
        "After an if stament we can choose to return to the normal flow of our code, or we can add an additional control structure: an else statement\n",
        "\n",
        "```\n",
        "if (condition):\n",
        "  some code\n",
        "else:\n",
        "  some more code\n",
        "```\n",
        "\n",
        "If the condition in the if statement is true, the code in the if block will execute. Otherwise, the code in the else block will execute."
      ]
    },
    {
      "cell_type": "code",
      "metadata": {
        "id": "E7TGr5_TxX6Y",
        "colab": {
          "base_uri": "https://localhost:8080/",
          "height": 54
        },
        "outputId": "3192b56e-c9c4-42ec-869b-2813a70fab60"
      },
      "source": [
        "# We want to improve our fever test, \n",
        "# by also printing a message if\n",
        "# the patient does not have a fever.\n",
        "#\n",
        "# This will prompt you to enter in a temperature\n",
        "#@title Fever Test\n",
        "temperature = 97 #@param {type:\"number\"}\n",
        "# ---------------------------------------\n",
        "\n",
        "# EDIT BELOW HERE ---------------------\n",
        "\n",
        "if (temperature >= 103):\n",
        "  print(\"You may have a fever\")\n",
        "\n",
        "# Unindent the else statement\n",
        "else: # Include a colon after the else statement\n",
        "  print(\"You do not have a fever\")\n",
        "  \n",
        "# Unindent your code to end the if/else statement\n",
        "\n",
        "print(\"Done\")\n",
        "\n",
        "# Excercise: The cutoff temperature for a\n",
        "# fever is too high. Change the code, so\n",
        "# we print \"You may have a fever\" if your\n",
        "# temperature is greater than or equal to\n",
        "# 103\n"
      ],
      "execution_count": null,
      "outputs": [
        {
          "output_type": "stream",
          "text": [
            "You do not have a fever\n",
            "Done\n"
          ],
          "name": "stdout"
        }
      ]
    },
    {
      "cell_type": "markdown",
      "metadata": {
        "id": "q72aSNtLHos1"
      },
      "source": [
        "##### Nested If Statements\n",
        "We can also chain if multiple if statements together using an elif structure, short for else if.\n",
        "\n",
        "```\n",
        "if (condition 1):\n",
        "  Code Block 1\n",
        "elif (condition 2):\n",
        "  Code Block 2\n",
        "elif (condition 3):\n",
        "  Code Block 3\n",
        "else:\n",
        "  Code Block 4\n",
        "\n",
        "regular code\n",
        "```\n",
        "\n",
        "In the above example condition 1 is evaluated. If it is true, Code Block 1 is run and then we continue to the regular code. If condition 1 is false, condition 2 is evaluated, if true \"Code Block 2\". If condition 1 and 2 are both false, then Condition 3 is evalutated, and if it is true then \"Code Block 3\" is run. Finally, if all the conditions are false we run the code in the else statement and then return to our regular code. Regardless of which one, only one of the code blocks will be run in the above example."
      ]
    },
    {
      "cell_type": "code",
      "metadata": {
        "id": "Yve-0wXwG-Oc",
        "colab": {
          "base_uri": "https://localhost:8080/",
          "height": 35
        },
        "outputId": "ffcae7ab-3edb-4525-8d54-d2db7adeecab"
      },
      "source": [
        "# Now we want to further improve our\n",
        "# test by checking if the patient\n",
        "# has a headache. We can do this using an elif statement.\n",
        "#\n",
        "# This will prompt you to enter in a temperature\n",
        "#@title Fever Test?\n",
        "temperature = 97 #@param {type:\"number\"}\n",
        "headache = False #@param {type:\"boolean\"}\n",
        "# ---------------------------------------\n",
        "\n",
        "# EDIT BELOW HERE ---------------------\n",
        "\n",
        "if (temperature >= 103 and headache): \n",
        "  print(\"You have a fever!\")\n",
        "\n",
        "# Elif statements are unindented too\n",
        "elif (temperature >= 103): # Include a colon after each elif statement\n",
        "  print(\"You may have a fever\")\n",
        "\n",
        "else:\n",
        "  print(\"You do not have a fever\")\n",
        "\n"
      ],
      "execution_count": null,
      "outputs": [
        {
          "output_type": "stream",
          "text": [
            "You do not have a fever\n"
          ],
          "name": "stdout"
        }
      ]
    },
    {
      "cell_type": "code",
      "metadata": {
        "id": "z49Tqx0YLS9n",
        "colab": {
          "base_uri": "https://localhost:8080/",
          "height": 35
        },
        "outputId": "17a129aa-cea5-4bb4-dc65-fe29dafea7e9"
      },
      "source": [
        "# Now we want to further improve our \n",
        "#test by checking if the patient\n",
        "# has a headache. We can do this using an elif statement.\n",
        "#\n",
        "# This will prompt you to enter in a temperature\n",
        "#@title Fever Test?\n",
        "temperature = 97 #@param {type:\"number\"}\n",
        "headache = False #@param {type:\"boolean\"}\n",
        "adominal_pain = False #@param {type:\"boolean\"}\n",
        "# ---------------------------------------\n",
        "\n",
        "# EDIT BELOW HERE ---------------------\n",
        "\n",
        "# EXCERCISE: Add a third elif statement\n",
        "# the code using the adominal_pain variable\n",
        "\n",
        "if (temperature >= 103 and headache): \n",
        "  print(\"You have a fever!\")\n",
        "\n",
        "elif (temperature >= 103):\n",
        "  print(\"You may have a fever\")\n",
        "\n",
        "# Add elif statement here\n",
        "\n",
        "elif (adominal_pain):\n",
        "  print(\"You may have a fever\")\n",
        "\n",
        "else:\n",
        "  print(\"You do not have a fever\")\n"
      ],
      "execution_count": null,
      "outputs": [
        {
          "output_type": "stream",
          "text": [
            "You may have a fever\n"
          ],
          "name": "stdout"
        }
      ]
    },
    {
      "cell_type": "markdown",
      "metadata": {
        "id": "IwU8O2iMLtBl"
      },
      "source": [
        "The elif command is a shortcut for creating **nested if statements**: if statements within if statements. If we knew that having a fever and adominal pain required immediate attention from a doctor. We might change the code you just wrote to:"
      ]
    },
    {
      "cell_type": "code",
      "metadata": {
        "id": "rksqxkWHMeYb",
        "colab": {
          "base_uri": "https://localhost:8080/"
        },
        "outputId": "1c459694-ce4d-4dfb-e61f-633803c612ab"
      },
      "source": [
        "#This will prompt you to enter in a temperature\n",
        "#@title Fever Test?\n",
        "temperature =  97#@param {type:\"number\"}\n",
        "headache = True #@param {type:\"boolean\"}\n",
        "adominal_pain = False #@param {type:\"boolean\"}\n",
        "# ---------------------------------------\n",
        "\n",
        "# EDIT BELOW HERE ---------------------\n",
        "\n",
        "# EXERCISE: Play around with the form\n",
        "# entries\n",
        "if (temperature >= 103 and headache): \n",
        "  if (adominal_pain):\n",
        "    print(\"You have a fever! Immediate follow-up required.\")\n",
        "  else:\n",
        "    print(\"You have a fever.\")\n",
        "# Elif statements are unindented too\n",
        "elif (temperature >= 103): # Include a colon after each elif statement\n",
        "  print(\"You may have a fever\")\n",
        "\n",
        "else:\n",
        "  print(\"You do not have a fever\")\n"
      ],
      "execution_count": null,
      "outputs": [
        {
          "output_type": "stream",
          "text": [
            "You do not have a fever\n"
          ],
          "name": "stdout"
        }
      ]
    },
    {
      "cell_type": "markdown",
      "metadata": {
        "id": "UMtpy2OwFhq0"
      },
      "source": [
        "## Decision Trees\n",
        "\n",
        "Decision trees are a machine learning algorithm, which have a flowchart-like structure. Each node in the tree represents the evaluation of a test on a particular feature.\n",
        "\n",
        "To \"train\" a decision tree we need to learn what series of conditions best fits our data.\n",
        "\n",
        "### Manual Trees\n",
        "\n",
        "If statemnets can be used to manually set decision tree boundaries. An example of a decision tree to determine a doctor might use to determine the success of a treatment for a new-born baby is shown below.\n",
        "\n",
        "The sample dataset contains the following information\n",
        "* Blood Glucose Levels\n",
        "* Relative level of a reactive protein\n",
        "* Gestational Age\n",
        "* Birthweight\n",
        "* White Blood Cell Count (wbc)\n",
        "* Platelet Count\n",
        "\n"
      ]
    },
    {
      "cell_type": "code",
      "metadata": {
        "id": "4xlgnKCFGS2A",
        "colab": {
          "base_uri": "https://localhost:8080/"
        },
        "outputId": "e96a3806-cf14-4a7a-a0b2-f916878833fa"
      },
      "source": [
        "#@title Patient Diagnosis Form?\n",
        "blood_glucose = 2.11 #@param {type:\"slider\", min:0, max:5, step:0.01}\n",
        "reactive_protein = 1.09 #@param {type:\"slider\", min:0, max:4, step:0.01}\n",
        "gestational_age = 15 #@param {type:\"slider\", min:15, max:50, step:1}\n",
        "birthweight = 503 #@param {type:\"slider\", min:400, max:900, step:0.5}\n",
        "wbc = 9.09 #@param {type:\"slider\", min:5, max:15, step:0.01}\n",
        "platelet_count = 50 #@param {type:\"slider\", min:50, max:200, step:0.1}\n",
        "# --------\n",
        "\n",
        "# EDIT BELOW HERE ---------------------\n",
        "\n",
        "# Each if statement contains a\n",
        "# manual decision tree boundary or condition.\n",
        "# One way to set these decision tree boundaries is by the\n",
        "# example that coach Nick walked through.\n",
        "\n",
        "# Here is a example decision tree that might be\n",
        "# used by a doctor.\n",
        "\n",
        "\n",
        "if (blood_glucose >= 2.55):\n",
        "  if (birthweight >= 677.5):\n",
        "    if (wbc >= 8.25):\n",
        "      print(\"Complete Success\")\n",
        "    elif (platelet_count >= 142.5):\n",
        "      print(\"Likely To Succeed\")\n",
        "    else:\n",
        "      print(\"Additional Test Needed\")\n",
        "  else:\n",
        "    print(\"Additional Test Needed\")\n",
        "elif (reactive_protein < 1.35):\n",
        "  if (gestational_age > 27):\n",
        "    print(\"Complete Success\")\n",
        "  else:\n",
        "    print(\"Additional Test Needed\")\n",
        "else:\n",
        "  print(\"Additional Test Needed\")\n",
        "\n",
        "# EXERCISE:\n",
        "# See if you can get a \"Complete Success\" message\n"
      ],
      "execution_count": null,
      "outputs": [
        {
          "output_type": "stream",
          "text": [
            "Additional Test Needed\n"
          ],
          "name": "stdout"
        }
      ]
    },
    {
      "cell_type": "markdown",
      "metadata": {
        "id": "3Bko0nfcGU5p"
      },
      "source": [
        "### Decision Trees from Data\n",
        "\n",
        "#### Libraries (cont)\n",
        "\n",
        "At times we wish to include, only specific components of a library. We can do this using\n",
        "\n",
        "```\n",
        "from <library> import <component>\n",
        "```\n",
        "\n",
        "#### Sklearn\n",
        "\n",
        "Sklearn is a python package that is used for data processing, data visualization, and training machine learning algorithms. We can automate Coach Nick's example using SKlearn, here is an example of how we might do that."
      ]
    },
    {
      "cell_type": "code",
      "metadata": {
        "id": "rXyFK2g4iTZ4",
        "colab": {
          "base_uri": "https://localhost:8080/",
          "height": 959
        },
        "outputId": "b89addde-b4fe-4813-8efd-6f4d61839d29"
      },
      "source": [
        "from sklearn import tree\n",
        "import random\n",
        "\n",
        "# Makes sure the data is the same each time\n",
        "# the code is run\n",
        "random.seed(30)\n",
        "\n",
        "# Generate Random Training Data\n",
        "# Features are random numbers between 0 and 1\n",
        "# Targets are either 0 or 1\n",
        "# Example data point (.34, .534, 0)\n",
        "\n",
        "train_length = 40; # number of training samples\n",
        "X = [] # feature list\n",
        "Y = [] # target list\n",
        "\n",
        "# Don't worry too much about this\n",
        "# We'll talk more about it next week\n",
        "for i in range(train_length):\n",
        "  feature = [random.random(), random.random()]\n",
        "  X.append(feature)\n",
        "\n",
        "  target = random.sample([0,1], 1)\n",
        "  Y.append(target)\n",
        "\n",
        "#############################################################\n",
        "# Decision Tree Code\n",
        "\n",
        "# Create decision tree\n",
        "clf = tree.DecisionTreeClassifier()\n",
        "\n",
        "# Train decision tree on training data (X,Y)\n",
        "clf = clf.fit(X, Y)\n",
        "\n",
        "print('#############################')\n",
        "print(\"Run trained model on a single sample\")\n",
        "samp = [[random.random(), random.random()]] # Generate random sample\n",
        "print(\"Sample:\")\n",
        "print(samp)\n",
        "print('Prediction:')\n",
        "print(clf.predict(samp))\n",
        "print('#############################')\n",
        "\n",
        "\n",
        "# Plot decison tree\n",
        "tree.plot_tree(clf) "
      ],
      "execution_count": null,
      "outputs": [
        {
          "output_type": "stream",
          "text": [
            "#############################\n",
            "Run trained model on a single sample\n",
            "Sample:\n",
            "[[0.33254823449305015, 0.39043599445904886]]\n",
            "Prediction:\n",
            "[1]\n",
            "#############################\n"
          ],
          "name": "stdout"
        },
        {
          "output_type": "execute_result",
          "data": {
            "text/plain": [
              "[Text(150.66000000000003, 203.85, 'X[0] <= 0.964\\ngini = 0.489\\nsamples = 40\\nvalue = [17, 23]'),\n",
              " Text(133.92000000000002, 176.67000000000002, 'X[1] <= 0.378\\ngini = 0.478\\nsamples = 38\\nvalue = [15, 23]'),\n",
              " Text(66.96000000000001, 149.49, 'X[0] <= 0.514\\ngini = 0.486\\nsamples = 12\\nvalue = [7, 5]'),\n",
              " Text(33.480000000000004, 122.31, 'X[1] <= 0.207\\ngini = 0.49\\nsamples = 7\\nvalue = [3, 4]'),\n",
              " Text(16.740000000000002, 95.13, 'gini = 0.0\\nsamples = 3\\nvalue = [0, 3]'),\n",
              " Text(50.220000000000006, 95.13, 'X[1] <= 0.252\\ngini = 0.375\\nsamples = 4\\nvalue = [3, 1]'),\n",
              " Text(33.480000000000004, 67.94999999999999, 'X[0] <= 0.411\\ngini = 0.5\\nsamples = 2\\nvalue = [1, 1]'),\n",
              " Text(16.740000000000002, 40.77000000000001, 'gini = 0.0\\nsamples = 1\\nvalue = [0, 1]'),\n",
              " Text(50.220000000000006, 40.77000000000001, 'gini = 0.0\\nsamples = 1\\nvalue = [1, 0]'),\n",
              " Text(66.96000000000001, 67.94999999999999, 'gini = 0.0\\nsamples = 2\\nvalue = [2, 0]'),\n",
              " Text(100.44000000000001, 122.31, 'X[1] <= 0.344\\ngini = 0.32\\nsamples = 5\\nvalue = [4, 1]'),\n",
              " Text(83.70000000000002, 95.13, 'gini = 0.0\\nsamples = 4\\nvalue = [4, 0]'),\n",
              " Text(117.18, 95.13, 'gini = 0.0\\nsamples = 1\\nvalue = [0, 1]'),\n",
              " Text(200.88000000000002, 149.49, 'X[1] <= 0.651\\ngini = 0.426\\nsamples = 26\\nvalue = [8, 18]'),\n",
              " Text(167.40000000000003, 122.31, 'X[0] <= 0.424\\ngini = 0.153\\nsamples = 12\\nvalue = [1, 11]'),\n",
              " Text(150.66000000000003, 95.13, 'X[0] <= 0.358\\ngini = 0.375\\nsamples = 4\\nvalue = [1, 3]'),\n",
              " Text(133.92000000000002, 67.94999999999999, 'gini = 0.0\\nsamples = 3\\nvalue = [0, 3]'),\n",
              " Text(167.40000000000003, 67.94999999999999, 'gini = 0.0\\nsamples = 1\\nvalue = [1, 0]'),\n",
              " Text(184.14000000000001, 95.13, 'gini = 0.0\\nsamples = 8\\nvalue = [0, 8]'),\n",
              " Text(234.36, 122.31, 'X[1] <= 0.742\\ngini = 0.5\\nsamples = 14\\nvalue = [7, 7]'),\n",
              " Text(217.62000000000003, 95.13, 'gini = 0.0\\nsamples = 2\\nvalue = [2, 0]'),\n",
              " Text(251.10000000000002, 95.13, 'X[1] <= 0.886\\ngini = 0.486\\nsamples = 12\\nvalue = [5, 7]'),\n",
              " Text(217.62000000000003, 67.94999999999999, 'X[0] <= 0.283\\ngini = 0.278\\nsamples = 6\\nvalue = [1, 5]'),\n",
              " Text(200.88000000000002, 40.77000000000001, 'gini = 0.0\\nsamples = 1\\nvalue = [1, 0]'),\n",
              " Text(234.36, 40.77000000000001, 'gini = 0.0\\nsamples = 5\\nvalue = [0, 5]'),\n",
              " Text(284.58000000000004, 67.94999999999999, 'X[1] <= 0.934\\ngini = 0.444\\nsamples = 6\\nvalue = [4, 2]'),\n",
              " Text(267.84000000000003, 40.77000000000001, 'gini = 0.0\\nsamples = 3\\nvalue = [3, 0]'),\n",
              " Text(301.32000000000005, 40.77000000000001, 'X[0] <= 0.015\\ngini = 0.444\\nsamples = 3\\nvalue = [1, 2]'),\n",
              " Text(284.58000000000004, 13.590000000000003, 'gini = 0.0\\nsamples = 1\\nvalue = [1, 0]'),\n",
              " Text(318.06000000000006, 13.590000000000003, 'gini = 0.0\\nsamples = 2\\nvalue = [0, 2]'),\n",
              " Text(167.40000000000003, 176.67000000000002, 'gini = 0.0\\nsamples = 2\\nvalue = [2, 0]')]"
            ]
          },
          "metadata": {
            "tags": []
          },
          "execution_count": 11
        },
        {
          "output_type": "display_data",
          "data": {
            "image/png": "[encoded data removed]",
            "text/plain": [
              "<Figure size 432x288 with 1 Axes>"
            ]
          },
          "metadata": {
            "tags": [],
            "needs_background": "light"
          }
        }
      ]
    },
    {
      "cell_type": "markdown",
      "metadata": {
        "id": "ViJnu3_MPj-E"
      },
      "source": [
        "### Challenge Time\n",
        "\n",
        "Using the content from the last presentation (pandas, and basic data types) and what you now know about decision trees, and if / else statements:\n",
        "\n",
        "1. Download the play csv file\n",
        "2. Upload the file to CoLab.\n",
        "* Click files on the sidenav bar (the folder icon)\n",
        "* Click \"Upload to session storage\" (document with an up arrow)\n",
        "* Select the file you want to upload, and press enter\n",
        "3. Open the csv file(s) with pandas\n",
        "4. Use if and else statements to create a decision tree for the features of your dataset to try and predict the targets (whether to play golf or not). Use print statements to show what your final prediction will be.\n",
        "\n",
        "**There are multiple ways to create the decision tree. DO NOT use the automated method shown above. Use as many if/else statements as you need to make sure that all of the data is classified correctly.** If you want a challenge, try using the method Coach Nick showed you.\n",
        "\n",
        "\n"
      ]
    },
    {
      "cell_type": "code",
      "metadata": {
        "id": "ZDKjFNffD3sD"
      },
      "source": [
        "# Write your import statements here\n",
        "# How do we import pandas? Check in notebook 1 if you're not sure.\n",
        "\n",
        "# Read in the file with pandas.\n",
        "\n",
        "# Take a look at the data (first five columns) in colab.\n",
        "# You can also look at the entire dataset by double clicking on the file in\n",
        "# the side navbar.\n",
        "\n",
        "# What features are in our data? What are they?\n",
        "\n",
        "# How many samples are in our dataset"
      ],
      "execution_count": null,
      "outputs": []
    },
    {
      "cell_type": "code",
      "metadata": {
        "id": "U3PnJudyQX61"
      },
      "source": [
        "# If you're having trouble getting started, notice how when the outlook is \n",
        "# rainy and the temperature is hot, we never play golf. How would you use \n",
        "# if/else statements to show this (i.e. if rainy and hot then \n",
        "# don't play golf.)\n",
        "\n",
        "# What similiar patterns do you notice in the dataset? How could you\n",
        "# write if / else statements for these?"
      ],
      "execution_count": null,
      "outputs": []
    },
    {
      "cell_type": "code",
      "metadata": {
        "id": "0W3VeUX2UR2k"
      },
      "source": [
        "# Test your decision tree using these sample variables. Make sure\n",
        "# to change them to account for each sample in the dataset.\n",
        "\n",
        "outlook = \"Sunny\"\n",
        "temp = \"Mild\"\n",
        "humidity = \"High\"\n",
        "windy = True"
      ],
      "execution_count": null,
      "outputs": []
    },
    {
      "cell_type": "code",
      "metadata": {
        "id": "9Kgmqg5MUxIE",
        "colab": {
          "base_uri": "https://localhost:8080/",
          "height": 35
        },
        "outputId": "452600bc-3f3f-4c0b-dcb3-17216d654e40"
      },
      "source": [
        "# Write your decision tree here.\n",
        "\n",
        "import pandas as pd\n",
        "\n",
        "df = pd.read_csv('play.csv')\n",
        "\n",
        "df = pd.read_csv('play.csv')\n",
        "\n",
        "if (outlook == \"Overcast\"):\n",
        "  print(\"Yes\")\n",
        "\n",
        "elif (outlook == \"Rainy\"):\n",
        "  if (temp == \"Hot\"):\n",
        "    print(\"No\")\n",
        "  elif (humidity == \"High\"):\n",
        "    print(\"No\")\n",
        "  else:\n",
        "    print(\"Yes\")\n",
        "else:\n",
        "  if (windy == True):\n",
        "    print(\"No\")\n",
        "  else:\n",
        "    print(\"Yes\")"
      ],
      "execution_count": null,
      "outputs": [
        {
          "output_type": "stream",
          "text": [
            "No\n"
          ],
          "name": "stdout"
        }
      ]
    }
  ]
}