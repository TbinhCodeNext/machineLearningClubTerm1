{
  "nbformat": 4,
  "nbformat_minor": 0,
  "metadata": {
    "colab": {
      "name": "ThanhbinhNguyen_ML_Lesson_3.ipynb",
      "provenance": [],
      "collapsed_sections": [],
      "include_colab_link": true
    },
    "kernelspec": {
      "name": "python3",
      "display_name": "Python 3"
    }
  },
  "cells": [
    {
      "cell_type": "markdown",
      "metadata": {
        "id": "view-in-github",
        "colab_type": "text"
      },
      "source": [
        "<a href=\"https://colab.research.google.com/github/TbinhCodeNext/machineLearningClubTerm1/blob/main/Thanhbinh_Nguyen_ML_Lesson_3.ipynb\" target=\"_parent\"><img src=\"https://colab.research.google.com/assets/colab-badge.svg\" alt=\"Open In Colab\"/></a>"
      ]
    },
    {
      "cell_type": "markdown",
      "metadata": {
        "id": "BkxmgGMTFb2J"
      },
      "source": [
        "# Google Club Next\n",
        "## Lesson 3 : For Loops and KNN\n"
      ]
    },
    {
      "cell_type": "markdown",
      "metadata": {
        "id": "v3XkrpwvhFbO"
      },
      "source": [
        "#### Lists\n",
        "\n",
        "**Basics**   \n",
        "Lists are a special type of variable that can hold more than one value.\n",
        "\n",
        "We denote lists in python using [ ] and use ',' to seperate values in the array.\n",
        "\n",
        "```\n",
        "my_list = ['dog', 'cat', 1, 5.4, True, 'elephant']\n",
        "```\n",
        "We refer to each value of the list as an element. The above list has 6 elements in it. As you can see in the above example, elements do not need to be of the same data type in python. \n",
        "\n",
        "Additionally, two elements in a list can have the same value. \n",
        "```\n",
        "my_list = ['dog', 1, 2, 3, 'dog', 3]\n",
        "```\n",
        "\n",
        "We can have another list as an element in another list. \n",
        "```\n",
        "my_list = ['dog', 'cat', [1, 2, 3]]\n",
        "```"
      ]
    },
    {
      "cell_type": "code",
      "metadata": {
        "id": "SC5jmq-LiSBv",
        "colab": {
          "base_uri": "https://localhost:8080/",
          "height": 72
        },
        "outputId": "0e7260d8-2a5d-4db1-c49e-71b49a6f38ab"
      },
      "source": [
        "months = ['Jan', 'Feb', 'Mar', 'April', 'May', 'Jun', 'Jul', 'Aug', 'Sep', 'Oct', 'Nov', 'Dec']\n",
        "print(months)\n",
        "\n",
        "mike_family = ['Mom', 'Dad', ['Brother1', 'Brother2']]\n",
        "print(mike_family)\n",
        "\n",
        "# Exercise\n",
        "# Create your own list of your favorite foods. Make sure it contains at least five items\n",
        "fav_foods = ['burgers', 'lasagna', 'strawberries', 'cherries', 'tofu', 'oreos', 'cha gio']\n",
        "print(fav_foods)"
      ],
      "execution_count": null,
      "outputs": [
        {
          "output_type": "stream",
          "text": [
            "['Jan', 'Feb', 'Mar', 'April', 'May', 'Jun', 'Jul', 'Aug', 'Sep', 'Oct', 'Nov', 'Dec']\n",
            "['Mom', 'Dad', ['Brother1', 'Brother2']]\n",
            "['burgers', 'lasagna', 'strawberries', 'cherries', 'tofu', 'oreos', 'cha gio']\n"
          ],
          "name": "stdout"
        }
      ]
    },
    {
      "cell_type": "markdown",
      "metadata": {
        "id": "jcOxgSc4iaRU"
      },
      "source": [
        "**Indexing**\n",
        "\n",
        "Returning values from a list is called indexing, and we index a list by telling python the position or index of the value we want out. **Important: In Python, the index of the first element in a list is 0**. So for the previous example the values and indices of our list are:\n",
        "\n",
        "| Element|Data Type| Index|\n",
        "| :-------------: | :----------: | :-----------: |\n",
        "|  'dog' | String   | 0 |\n",
        "| 'cat'   | String | 1 |\n",
        "| 1   | Int | 2 |\n",
        "| 5.4   | Float | 3 |\n",
        "| True   | Boolean | 4 |\n",
        "| 'elephant'   | String | 5 |\n",
        "\n",
        "To index a list and return a value we use the list name followed by square brackets and the index of the value we want.\n",
        "\n",
        "For example to assign the value of dog to a new variable, my_var, using the list from the first example, we could do the following.\n",
        "\n",
        "```\n",
        "my_var = my_list[0]\n",
        "```\n",
        "\n",
        "We can also search a list for a particular value and return its index using\n",
        "```\n",
        "my_list.index(<value>)\n",
        "```\n",
        "\n",
        "In cases where a list contains multiple elements with the same value, the lower index will be returned. Again using our first example, this will assign the value of 0 to my_var\n",
        "\n",
        "```\n",
        "my_var = my_list.index('dog')\n",
        "```\n",
        "\n",
        "If we try to get the value at an index outside of the list, we will return an error. However, if we use negative numbers, we will begin indexing at the end of our list (starting at -1). We can still return an error if our negative index's magnitude is greater than the size of our list.\n",
        "\n",
        "```\n",
        "my_list[-1] # is equal to 'elephant'\n",
        "my_list[-7] # this will return an error\n",
        "```\n",
        "\n",
        "To get the length of a list use:\n",
        "```\n",
        "len(my_list)\n",
        "```"
      ]
    },
    {
      "cell_type": "code",
      "metadata": {
        "id": "zmdXVKm2iSJW",
        "colab": {
          "base_uri": "https://localhost:8080/",
          "height": 126
        },
        "outputId": "881f7479-d552-4234-fd6c-7173c2a1b724"
      },
      "source": [
        "test_list = ['purple', True, 2.34, \"burgandy\", 7]\n",
        "\n",
        "print(test_list[0]) # will print purple\n",
        "print(test_list[3]) # will print burgandy\n",
        "\n",
        "# This will return an error\n",
        "#print(test_list[7])\n",
        "\n",
        "print(test_list[-1]) # will print burgandy\n",
        "\n",
        "print(len(test_list)) # will print 4\n",
        "\n",
        "# Exercise\n",
        "# print out the 3rd and 5th item in your fav_food list using indexing. For example\n",
        "my_list = ['pasta', 'burgers', 'paella', 'jollof rice', 'jambalaya']\n",
        "# print out 'paella' and 'jambalaya\n",
        "print(my_list[2])\n",
        "print(my_list[4])\n"
      ],
      "execution_count": null,
      "outputs": [
        {
          "output_type": "stream",
          "text": [
            "purple\n",
            "burgandy\n",
            "7\n",
            "5\n",
            "paella\n",
            "jambalaya\n"
          ],
          "name": "stdout"
        }
      ]
    },
    {
      "cell_type": "markdown",
      "metadata": {
        "id": "JiiHotFoikW3"
      },
      "source": [
        "**Slices**  \n",
        "We can index multiple values in a list at the same time. Referencing multiple values in a list will return a smaller list, consisting of the indexed values. This smaller list is called a slice.\n",
        "\n",
        "To index sequential elements we indicate the lower and upper index we wish to grab seperated by a colon (:) in square brackets.\n",
        "\n",
        "```\n",
        "my_list = [0, 1, 2, 3, 4, 5, 6, 7, 8, 9]\n",
        "\n",
        "# Grab all values starting at index 1 and going to index 4\n",
        "my_sublist = my_list[1:5]\n",
        "# my sublist is now [1, 2, 3, 4]\n",
        "```\n",
        "When we create a slice like this, we include all values starting at the lower index and stopping right before the index via this method we include the value at our lower index, but exclude the value at the upper index.\n",
        "\n",
        "We can also grab non-sequential indices by using commas (,) in our square brackets.\n",
        "\n",
        "```\n",
        "my_list = [0, 1, 2, 3, 4, 5, 6, 7, 8, 9]\n",
        "\n",
        "# Grab all values starting at index 1 and going to index 4\n",
        "my_sublist = my_list[1,4,5,8]\n",
        "# my sublist is now [1, 4, 5, 8]\n",
        "```\n",
        "\n",
        "Or some combination of both sequential and non-sequential values\n",
        "\n",
        "```\n",
        "my_list = [0, 1, 2, 3, 4, 5, 6, 7, 8, 9]\n",
        "\n",
        "# Grab all values starting at index 1 and going to index 4\n",
        "my_sublist = my_list[1:4,5,8]\n",
        "# my sublist is now [1, 2, 3, 5, 8]\n",
        "```"
      ]
    },
    {
      "cell_type": "code",
      "metadata": {
        "id": "XGcK_29ciSMU",
        "colab": {
          "base_uri": "https://localhost:8080/",
          "height": 54
        },
        "outputId": "97578d48-82e7-42eb-c7be-124829760ba6"
      },
      "source": [
        "my_list = [10, 11, 12, 13, 14, 15, 16, 17, 18, 19, 20, 21, 22, 23, 24, 25]\n",
        "\n",
        "print(my_list[1:5] + my_list[9:11]) # will print out 11, 12, 13, 14, 19, 20\n",
        "\n",
        "# Exercise\n",
        "# Try print out your ages for the next 5 years using my_list\n",
        "print(my_list[6:11])"
      ],
      "execution_count": null,
      "outputs": [
        {
          "output_type": "stream",
          "text": [
            "[11, 12, 13, 14, 19, 20]\n",
            "[16, 17, 18, 19, 20]\n"
          ],
          "name": "stdout"
        }
      ]
    },
    {
      "cell_type": "markdown",
      "metadata": {
        "id": "GIEfBBd3ikab"
      },
      "source": [
        "**Adding Values**  \n",
        "After we have created a list, we can add values to it in a few ways. We can add a value to the end of a list by using:\n",
        "```\n",
        "my_list.append(<value>)\n",
        "```\n",
        "Alternatively, we can insert a value at a particular index, and shift all of the values after it up an index by using:\n",
        "```\n",
        "my_list.insert(<value>, <index>)\n",
        "```\n",
        "To add multiple values to the end of a list we can do the following:\n",
        "```\n",
        "my_list.extend([value1, value2, ... ])\n",
        "```\n"
      ]
    },
    {
      "cell_type": "code",
      "metadata": {
        "id": "SGZBigL_iyLV"
      },
      "source": [
        "my_list = [1]\n",
        "print(my_list)\n",
        "\n",
        "my_list.append(3) # add 3 to the end of the list\n",
        "print(my_list)\n",
        "\n",
        "my_list.extend([4,5,6,7,8,9]) # add 4,5,6,7,8,9 to the end of the list\n",
        "print(my_list)\n",
        "\n",
        "my_list.insert(2, 1) # insert the value 2 at index 1 in the list\n",
        "print(my_list)\n",
        "\n",
        "# Exercise\n",
        "# Add the countries/cultures/regions your favorite foods are from to your fav_food list"
      ],
      "execution_count": null,
      "outputs": []
    },
    {
      "cell_type": "markdown",
      "metadata": {
        "id": "PsxMwgwhikeD"
      },
      "source": [
        "\n",
        "**Removing Values**  \n",
        "To remove the value at a specific index in an list, we use\n",
        "```\n",
        "my_list.pop(<index>)\n",
        "```\n",
        "\n",
        "To remove the first occurance of a particular value in an list:\n",
        "```\n",
        "my_list.remove(<value>)\n",
        "```"
      ]
    },
    {
      "cell_type": "code",
      "metadata": {
        "id": "RhJUMvxei3PI"
      },
      "source": [
        "my_list = [10, 19, 11, 12, 13, 14, 15, 16, 17, 100, 18, 19, 20, 21, 22, 23, 24, 25]\n",
        "print(my_list)\n",
        "\n",
        "my_list.pop(9)\n",
        "print(my_list)\n",
        "\n",
        "my_list.remove(19)\n",
        "print(my_list)\n",
        "\n",
        "# Exercise\n",
        "# Remove any food and country/culture/region in you fav_food list that doesn't start with a vowel.\n",
        "# If all the foods start with a vowel, remove the 2nd, 5th, 6th, and 8th elements."
      ],
      "execution_count": null,
      "outputs": []
    },
    {
      "cell_type": "markdown",
      "metadata": {
        "id": "lP9FegofmaCP"
      },
      "source": [
        "### For Loops\n",
        "\n",
        "For loops allow us to execute the same piece of code repeatedly.\n",
        "\n",
        "The syntax of a for loop in python is:\n",
        "\n",
        "```\n",
        "for <variable> in <list>:\n",
        "  some code here\n",
        "```\n",
        "The code inside of the for loop will execute one type for each element in the list. We are also allowed to use the variable inside of the for statement code block, and do not need to create the variable prior to using it in the for loop.\n",
        "\n",
        "Note that like if statements we need to include a colon after our for loop. Additionally, the code block inside of the for loop needs to be indented."
      ]
    },
    {
      "cell_type": "code",
      "metadata": {
        "id": "vSCoHlv-mYDG"
      },
      "source": [
        "# calculate student test average\n",
        "\n",
        "student_grades = [98, 100, 90, 85, 96, 92, 91, 94, 94]\n",
        "sum = 0\n",
        "\n",
        "# iterate through each of the grades in student grades\n",
        "for grade in student_grades:\n",
        "  sum += grade\n",
        "\n",
        "print(\"Class average:\")\n",
        "print(sum/len(student_grades))\n"
      ],
      "execution_count": null,
      "outputs": []
    },
    {
      "cell_type": "code",
      "metadata": {
        "id": "elx83bxhT-iT"
      },
      "source": [
        "# Exercise\n",
        "# Loop through the grades list\n",
        "# If the grade is greater than one 90 print \"Congrats\"\n",
        "\n",
        "grades = [81, 90, 93, 94, 88, 95, 100, 85]\n",
        "\n",
        "# Your code here\n"
      ],
      "execution_count": null,
      "outputs": []
    },
    {
      "cell_type": "markdown",
      "metadata": {
        "id": "fiAr4TsHpkWq"
      },
      "source": [
        "#### Range()\n",
        "\n",
        "Range() allows us to create lists of sequential integers. The syntax for using range is:\n",
        "\n",
        "```\n",
        "my_list = range(a) \n",
        "\n",
        "# my_list = [0, 1, 2, ..., a-1]\n",
        "```\n",
        "\n",
        "Note that range() creates a list with a elements starting at 0 and going to a-1.\n",
        "\n",
        "You can also specify a starting value for your range function.\n",
        "\n",
        "```\n",
        "my_list = range(a,b)\n",
        "\n",
        "# my_list = [a, a+1, a+2, ..., b-1]\n",
        "```\n",
        "\n",
        "Here, range() creates a list with a-b elements which contains a but does not contain b.\n",
        "\n",
        "The range function can be useful for iterating through a for loop a set number of times."
      ]
    },
    {
      "cell_type": "code",
      "metadata": {
        "id": "Or-VcKcqoeHo"
      },
      "source": [
        "# Suppose we want to print out greetings to 10 students\n",
        "\n",
        "for i in range(10):\n",
        "  print(\"Hello World\")"
      ],
      "execution_count": null,
      "outputs": []
    },
    {
      "cell_type": "code",
      "metadata": {
        "id": "TWEMetQMuMte"
      },
      "source": [
        "# Exercise\n",
        "# Print out your ages for the next five years using the range function\n"
      ],
      "execution_count": null,
      "outputs": []
    },
    {
      "cell_type": "markdown",
      "metadata": {
        "id": "W_EC22MEsAdk"
      },
      "source": [
        "## KNN\n",
        "\n",
        "### Example\n",
        "Run the below cell. Try changing the value of the `n_neighbors` variable to see what happens."
      ]
    },
    {
      "cell_type": "code",
      "metadata": {
        "id": "-Nxj3e_Pu5c6"
      },
      "source": [
        "import numpy as np\n",
        "import matplotlib.pyplot as plt\n",
        "from matplotlib.colors import ListedColormap\n",
        "from sklearn import neighbors, datasets\n",
        "\n",
        "# number of neighbors\n",
        "n_neighbors = 15\n",
        "\n",
        "# import dataset from sklearn\n",
        "iris = datasets.load_iris()\n",
        "\n",
        "# Only use the first two features in the dataset\n",
        "X = iris.data[:, :2]\n",
        "y = iris.target\n",
        "\n",
        "### Run KNN algorithm ###\n",
        "clf = neighbors.KNeighborsClassifier(n_neighbors, weights='distance')\n",
        "clf.fit(X, y)\n",
        "\n",
        "### Create the Plot ###\n",
        "h = .02  # step size in the mesh\n",
        "\n",
        "# Create color maps\n",
        "cmap_light = ListedColormap(['orange', 'cyan', 'cornflowerblue'])\n",
        "cmap_bold = ListedColormap(['darkorange', 'c', 'darkblue'])\n",
        "\n",
        "# Plot the decision boundary. For that, we will assign a color to each\n",
        "# point in the mesh [x_min, x_max]x[y_min, y_max].\n",
        "x_min, x_max = X[:, 0].min() - 1, X[:, 0].max() + 1\n",
        "y_min, y_max = X[:, 1].min() - 1, X[:, 1].max() + 1\n",
        "xx, yy = np.meshgrid(np.arange(x_min, x_max, h),\n",
        "                      np.arange(y_min, y_max, h))\n",
        "Z = clf.predict(np.c_[xx.ravel(), yy.ravel()])\n",
        "\n",
        "# Put the result into a color plot\n",
        "Z = Z.reshape(xx.shape)\n",
        "plt.figure()\n",
        "plt.pcolormesh(xx, yy, Z, cmap=cmap_light)\n",
        "\n",
        "# Plot the training points\n",
        "plt.scatter(X[:, 0], X[:, 1], c=y, cmap=cmap_bold,\n",
        "            edgecolor='k', s=20)\n",
        "plt.xlim(xx.min(), xx.max())\n",
        "plt.ylim(yy.min(), yy.max())\n",
        "plt.title(\"3-Class classification (k = %i')\"\n",
        "          % (n_neighbors))\n",
        "\n",
        "plt.show()"
      ],
      "execution_count": null,
      "outputs": []
    },
    {
      "cell_type": "markdown",
      "metadata": {
        "id": "e_Zh54k4jGFK"
      },
      "source": [
        "### Challenge\n",
        "Make sure to run the example above first, to import the appropriate data"
      ]
    },
    {
      "cell_type": "code",
      "metadata": {
        "id": "A_tUsz-JjIei"
      },
      "source": [
        "# Run this block of code\n",
        "# Generate data\n",
        "\n",
        "x = iris.data[:, :2]\n",
        "y = iris.target\n",
        "\n",
        "# Each item in the list, x = [feature 1, feature 2]\n",
        "# y is a list the same size as x with the targets"
      ],
      "execution_count": null,
      "outputs": []
    },
    {
      "cell_type": "code",
      "metadata": {
        "id": "PO27CGa1lBPA"
      },
      "source": [
        "# Write a loop to run through the targets, y and print out\n",
        "# each item (Hint: treat the y variable as a list).\n",
        "\n"
      ],
      "execution_count": null,
      "outputs": []
    },
    {
      "cell_type": "code",
      "metadata": {
        "id": "yshvXy1HqnUp"
      },
      "source": [
        "# Write a for loop to run through the features, x. Use \n",
        "# range() and len()\n",
        "\n"
      ],
      "execution_count": null,
      "outputs": []
    },
    {
      "cell_type": "markdown",
      "metadata": {
        "id": "kPMPFMtomMa9"
      },
      "source": [
        "![download.png](data:image/png;base64,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)"
      ]
    },
    {
      "cell_type": "code",
      "metadata": {
        "id": "dIiF6qldlBZh",
        "colab": {
          "base_uri": "https://localhost:8080/"
        },
        "outputId": "f84b88e9-d5a0-4e66-a9df-68fe3faf657a"
      },
      "source": [
        "# Calculate the distance between pt z1 and z2\n",
        "import numpy as np\n",
        "\n",
        "z1 = [1., 2.] # (x1, y1)\n",
        "z2 = [2., 4.] # (x2, y2)\n",
        "\n",
        "# Write the distance formula here\n",
        "# Use np.sqrt(variable) to calculate the square root of \n",
        "# a variable\n",
        " \n",
        "dist = np.sqrt((z2[0] - z1[0]) ** 2 + (z2[1] - z1[1]) ** 2)\n",
        "\n",
        "print(dist)"
      ],
      "execution_count": null,
      "outputs": [
        {
          "output_type": "stream",
          "text": [
            "2.23606797749979\n"
          ],
          "name": "stdout"
        }
      ]
    },
    {
      "cell_type": "code",
      "metadata": {
        "id": "DAt3bnDurJzk",
        "colab": {
          "base_uri": "https://localhost:8080/"
        },
        "outputId": "a7a301aa-c6c1-4cc0-b25c-64b47059fd58"
      },
      "source": [
        "# Example Nearest Neighbor\n",
        "# We're going to classify a point x_new\n",
        "X = [i for i in range(10)]\n",
        "Y = [0 if i < 5 else 1 for i in X]\n",
        "for x, y, in zip(X, Y):\n",
        "  print(x, y)\n",
        "# KNN Example\n",
        "test_point = 6.5\n",
        "\n",
        "best_point = None\n",
        "best_distance = float('inf')\n",
        "\n",
        "for x, y in zip(X, Y):\n",
        "  if abs(x - test_point) < best_distance:\n",
        "    best_point = (x, y)\n",
        "    best_distance = abs(x - test_point)\n",
        "print(\"predicted \", best_point[1])"
      ],
      "execution_count": null,
      "outputs": [
        {
          "output_type": "stream",
          "text": [
            "0 0\n",
            "1 0\n",
            "2 0\n",
            "3 0\n",
            "4 0\n",
            "5 1\n",
            "6 1\n",
            "7 1\n",
            "8 1\n",
            "9 1\n",
            "predicted  1\n"
          ],
          "name": "stdout"
        }
      ]
    },
    {
      "cell_type": "code",
      "metadata": {
        "id": "9AKMpAS_lBc4"
      },
      "source": [
        "# We're going to classify a new point x_new\n",
        "x_new = [6, 3]\n",
        "\n",
        "min_distance = 1000000000 # set the initial distance \n",
        "prediction = None\n",
        "\n",
        "# Copy the second for loop from above (the one using range() and len()\n",
        "# write for loop\n",
        "\n",
        "  # Calculate distance between x_new and the item in x\n",
        "\n",
        "\n",
        "  # Use an if statement to test whether new the distance is less\n",
        "  # than the min distance\n",
        "\n",
        "    # Set the prediction using the value y\n",
        "\n",
        "    # Set the new minimum value\n",
        "\n",
        "\n",
        "# Print out the prediction\n",
        "\n",
        "# Change the values of x_new to a different point and run this again"
      ],
      "execution_count": null,
      "outputs": []
    },
    {
      "cell_type": "markdown",
      "metadata": {
        "id": "3GzHAjT0pwsu"
      },
      "source": [
        "(Extra) We implemented KNN for K=1 above. Try to change the code, so that we can use different values of K."
      ]
    },
    {
      "cell_type": "code",
      "metadata": {
        "id": "AF5oXR-XqDJX"
      },
      "source": [
        ""
      ],
      "execution_count": null,
      "outputs": []
    }
  ]
}