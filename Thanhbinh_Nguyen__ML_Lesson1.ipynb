{
  "nbformat": 4,
  "nbformat_minor": 0,
  "metadata": {
    "colab": {
      "name": "Thanhbinh Nguyen Student_ML_Lesson1.ipynb",
      "provenance": [],
      "collapsed_sections": [],
      "include_colab_link": true
    },
    "kernelspec": {
      "name": "python3",
      "display_name": "Python 3"
    }
  },
  "cells": [
    {
      "cell_type": "markdown",
      "metadata": {
        "id": "view-in-github",
        "colab_type": "text"
      },
      "source": [
        "<a href=\"https://colab.research.google.com/github/TbinhCodeNext/machineLearningClubTerm1/blob/main/Thanhbinh_Nguyen__ML_Lesson1.ipynb\" target=\"_parent\"><img src=\"https://colab.research.google.com/assets/colab-badge.svg\" alt=\"Open In Colab\"/></a>"
      ]
    },
    {
      "cell_type": "markdown",
      "metadata": {
        "id": "BkxmgGMTFb2J"
      },
      "source": [
        "# Machine Learning Lesson 1: Python Basics and Data Exploration\n",
        "## Python Basics"
      ]
    },
    {
      "cell_type": "markdown",
      "metadata": {
        "id": "wz-jNUZiF4yP"
      },
      "source": [
        "### Print Statements\n",
        "What do you think the following line does? (press shift enter to run!)"
      ]
    },
    {
      "cell_type": "code",
      "metadata": {
        "id": "tkZZQccgFadV",
        "colab": {
          "base_uri": "https://localhost:8080/",
          "height": 35
        },
        "outputId": "202b7f41-0b6f-4b4f-e456-2b683ef6111c"
      },
      "source": [
        "print(\"Hello World\")"
      ],
      "execution_count": null,
      "outputs": [
        {
          "output_type": "stream",
          "text": [
            "Hello World\n"
          ],
          "name": "stdout"
        }
      ]
    },
    {
      "cell_type": "markdown",
      "metadata": {
        "id": "FEkGUwcDHFC5"
      },
      "source": [
        "Code executes from top to bottom  \n",
        "What do you think the following two lines of code will do?"
      ]
    },
    {
      "cell_type": "code",
      "metadata": {
        "id": "E-YVwU0KGrw3"
      },
      "source": [
        "print(\"Hello\")\n",
        "print(\"World\")"
      ],
      "execution_count": null,
      "outputs": []
    },
    {
      "cell_type": "code",
      "metadata": {
        "id": "g6Ko89nzcjIG",
        "colab": {
          "base_uri": "https://localhost:8080/",
          "height": 35
        },
        "outputId": "b0b2060d-8c74-4975-da89-e7aefc6489b4"
      },
      "source": [
        "# Exercise 1:\n",
        "# Print your name here\n",
        "print(\"Thanhbinh Nguyen\")"
      ],
      "execution_count": null,
      "outputs": [
        {
          "output_type": "stream",
          "text": [
            "Thanhbinh Nguyen\n"
          ],
          "name": "stdout"
        }
      ]
    },
    {
      "cell_type": "markdown",
      "metadata": {
        "id": "9kvIVNosHdJT"
      },
      "source": [
        "**Welcome to Google Colab. A cloud jupyter notebook service.**\n",
        "\n",
        "*Colabs Tip* - *Notice how when I run the second code block [2], the code in [1] doesn't run. Code in separate blocks can be executed independently. Notebooks are a great place for prototyping and seperating out components of your code.*"
      ]
    },
    {
      "cell_type": "markdown",
      "metadata": {
        "id": "CBV9JJ17ILPG"
      },
      "source": [
        "## Variables\n",
        "\n",
        "Variables store values.\n",
        "A variable is created by assigning a value to a variable name\n",
        "\n",
        "```\n",
        "variable_name = value\n",
        "```\n",
        "\n",
        "Here the \"=\" is called the assignment operator. We use the assignment operator to assign a variable a certain value"
      ]
    },
    {
      "cell_type": "code",
      "metadata": {
        "id": "hxtaXrW3IK3T"
      },
      "source": [
        "# This is a comment.\n",
        "# Comments don't do anything in our code\n",
        "#\n",
        "# Comments are any texts following a hashtag\n",
        "#\n",
        "# We can use comments to write reminders or\n",
        "# document how the code we write works or what\n",
        "# a piece of code does\n",
        "#\n",
        "# Always add comments to your code!!\n",
        "\n",
        "# These are variables\n",
        "a = 1\n",
        "b = \"John\" # We can also have a comment after a line of code"
      ],
      "execution_count": null,
      "outputs": []
    },
    {
      "cell_type": "markdown",
      "metadata": {
        "id": "xHhTwjfmKS75"
      },
      "source": [
        "After we have assigned a variable we can get the variable value using the variable name.\n",
        "\n",
        "**However if we try to use the value of a variable, before we have assigned it a value for the first time we will get an error**"
      ]
    },
    {
      "cell_type": "code",
      "metadata": {
        "id": "iGsg6aQEI7jJ",
        "colab": {
          "base_uri": "https://localhost:8080/",
          "height": 54
        },
        "outputId": "9be3d228-7414-4ce4-aa1a-2ec2bc01ac72"
      },
      "source": [
        "print(a)\n",
        "print(b)\n",
        "\n",
        "# This will not work. The variable c has not been created yet\n",
        "# print(c)"
      ],
      "execution_count": null,
      "outputs": [
        {
          "output_type": "stream",
          "text": [
            "1\n",
            "John\n"
          ],
          "name": "stdout"
        }
      ]
    },
    {
      "cell_type": "markdown",
      "metadata": {
        "id": "Hw0gN-SJMca6"
      },
      "source": [
        "*Colabs Tip - If you save a variable in one code block, you can still use it in another*"
      ]
    },
    {
      "cell_type": "code",
      "metadata": {
        "id": "HFZ2sV7GdzcM",
        "colab": {
          "base_uri": "https://localhost:8080/",
          "height": 35
        },
        "outputId": "67555133-ec7a-49a3-d880-27d3b87c5018"
      },
      "source": [
        "# Exercise 2:\n",
        "# Create a variable to store your name\n",
        "# Print out the variable\n",
        "my_name = \"Thanhbinh\"\n",
        "print(my_name)"
      ],
      "execution_count": null,
      "outputs": [
        {
          "output_type": "stream",
          "text": [
            "Thanhbinh\n"
          ],
          "name": "stdout"
        }
      ]
    },
    {
      "cell_type": "markdown",
      "metadata": {
        "id": "qjhevhr7H-po"
      },
      "source": [
        "#### Rules for Variable Names\n",
        "* Must start with a letter or an underscore (_)\n",
        "* Cannot start with a number\n",
        "* Must only contain alpha-numeric characters and underscores (A-z, 0-9, and _)\n",
        "* Are case sensitive (age is different than Age)\n"
      ]
    },
    {
      "cell_type": "code",
      "metadata": {
        "id": "kGXptVd9LJDL"
      },
      "source": [
        "# These names are alright\n",
        "\n",
        "myVar = \"Nick\"\n",
        "_myVar = \"Mike\"\n",
        "MYVAR = \"Cat\"\n",
        "mYvAr3 = \"Dog\"\n",
        "\n",
        "# These variable names are not\n",
        "# 2myVar = \"John\"\n",
        "# my-Var = \"Jog\""
      ],
      "execution_count": null,
      "outputs": []
    },
    {
      "cell_type": "markdown",
      "metadata": {
        "id": "fv3RWkvjN1do"
      },
      "source": [
        "#### Variable Types\n",
        "There are different types of variables\n",
        "\n",
        "* int - whole number (1,2,3,4, -1,0 10000)\n",
        "* float - decimal number (1.2, 3.492, 192.20430)\n",
        "* string - text (\"hello world\", 'My name is')\n",
        "* boolean - True or False (True/False)\n",
        "\n",
        "\n",
        "In python variable types are assigned automatically, when you create a variable. You can also change a variable's type if you assign it a different value.\n",
        "\n",
        "We can see the type of a variable by using\n",
        "\n",
        "```\n",
        "type(variable_name)\n",
        "```"
      ]
    },
    {
      "cell_type": "code",
      "metadata": {
        "id": "0UWjthKaPgrN",
        "colab": {
          "base_uri": "https://localhost:8080/",
          "height": 90
        },
        "outputId": "72652e0c-ef95-4a5b-caed-8ebd7030a593"
      },
      "source": [
        "test_var = 1 \n",
        "\n",
        "# test_var is now an int\n",
        "print(type(test_var))\n",
        "\n",
        "test_var = 1.23\n",
        "# test_var is now a float\n",
        "print(type(test_var))\n",
        "\n",
        "test_var = \"Hello World\"\n",
        "# test_var is now a string (str)\n",
        "print(type(test_var))\n",
        "\n",
        "test_var = True\n",
        "# test_var is now a boolean (bool)\n",
        "print(type(test_var))"
      ],
      "execution_count": null,
      "outputs": [
        {
          "output_type": "stream",
          "text": [
            "<class 'int'>\n",
            "<class 'float'>\n",
            "<class 'str'>\n",
            "<class 'bool'>\n"
          ],
          "name": "stdout"
        }
      ]
    },
    {
      "cell_type": "markdown",
      "metadata": {
        "id": "FcnELqlzkcnJ"
      },
      "source": [
        "### Operations\n",
        "\n",
        "#### Basic Operations\n",
        "\n",
        "Python supports all of the basic math operations\n",
        "* addition (+)\n",
        "* subtration (-)\n",
        "* multiplication (*)\n",
        "* division (/)\n",
        "* exponents (**)\n",
        "\n",
        "As well as a few others\n",
        "* modulus (%) : returns the remainder in a division (ex. 5 % 2 = 1)\n",
        "\n",
        "Predict the output of the following operations"
      ]
    },
    {
      "cell_type": "code",
      "metadata": {
        "id": "Uku9QWx5l9uQ"
      },
      "source": [
        "a = 7\n",
        "b = 5\n",
        "\n",
        "res a + b\n",
        "print (res)\n",
        "\n",
        "res a - b\n",
        "print(res)\n",
        "\n",
        "res = a / b\n",
        "print(res)\n",
        "\n",
        "res = a ** 2\n",
        "print(res)\n",
        "\n",
        "res = a % b\n",
        "print(res)"
      ],
      "execution_count": null,
      "outputs": []
    },
    {
      "cell_type": "markdown",
      "metadata": {
        "id": "gGXuxCHbmQXx"
      },
      "source": [
        "Change the values of a and b. What will the new results be?\n",
        "\n",
        "Suppose you wanted to add a value to a variable and assign that value to the variable. The code to do so might look like this:\n",
        "```\n",
        "my_var = my_var + 2\n",
        "```\n",
        "However, python has a shortcut for performing this operation:\n",
        "```\n",
        "my_var += 2\n",
        "```\n",
        "Python has similiar shortcuts for all of the basic operations\n",
        "```\n",
        "my_var += <value> # my_var = my_var + <value>\n",
        "my_var -= <value> # my_var = my_var - <value>\n",
        "my_var *= <value> # my_var = my_var * <value>\n",
        "my_var /= <value> # my_var = my_var / <value>\n",
        "my_var %= <value> # my_var = my_var % <value>\n",
        "```"
      ]
    },
    {
      "cell_type": "markdown",
      "metadata": {
        "id": "-MOZP0KFPPsY"
      },
      "source": [
        "## Data Exploration\n",
        "### Kaggle\n",
        "\n",
        "Kaggle hosts a variety of datasets online that can be used for machine learning models. You can find Kaggle at:\n",
        "> https://www.kaggle.com/\n",
        "\n",
        "Example Dataset \n",
        "https://www.kaggle.com/starbucks/starbucks-menu  \n",
        "\n",
        "Kaggle allows users to:\n",
        "* Find and publish datasets\n",
        "* Work with other data scientists\n",
        "* **Enter Competitions**\n",
        "\n",
        "If you need a want to know more about Kaggle, see [here](https://www.youtube.com/watch?v=O1P4r0Iy55U)"
      ]
    },
    {
      "cell_type": "code",
      "metadata": {
        "id": "UnRVYCKaPhnP"
      },
      "source": [
        "# We use pd as a nickname / alias for pandas\n",
        "import pandas as pd\n",
        "import io\n",
        "import numpy as np\n",
        "from google.colab import files\n",
        "\n",
        "# # Use this code to read in data files\n",
        "#uploaded = files.upload()\n",
        "#df = pd.read_csv(io.BytesIO(uploaded[list(uploaded.keys())[0]]))\n",
        "df = pd.read_csv('starbucks-menu-nutrition-drinks.csv')"
      ],
      "execution_count": null,
      "outputs": []
    },
    {
      "cell_type": "code",
      "metadata": {
        "id": "jaughjOjyq0v"
      },
      "source": [
        ""
      ],
      "execution_count": null,
      "outputs": []
    },
    {
      "cell_type": "markdown",
      "metadata": {
        "id": "Lnt9pde8yqiD"
      },
      "source": [
        ""
      ]
    },
    {
      "cell_type": "markdown",
      "metadata": {
        "id": "_70_Sw5ffB7G"
      },
      "source": [
        "### Pandas\n",
        "\n",
        "**What are python libraries?**\n",
        "\n",
        "Python libraries are pieces of code that other developers have written for other people to use in there code.\n",
        "\n",
        "Examples of python libraries include\n",
        "* Numpy - popular python library for complex numerical operations\n",
        "* Pytorch - widely used machine learning library\n",
        "* OpenCV - library for working with images and image processing. \n",
        "\n",
        "To use python library we first need to install and import them:\n",
        "\n",
        "We're not going to cover installing python libraries in-depth here, just know that if you are not working on Google Colab, you will need to install certain non-default libraries. Oftentimes you can do this by running the following on the command line.\n",
        "```\n",
        "pip install <library-name>\n",
        "```\n",
        "If you need assistance see [here](https://packaging.python.org/tutorials/installing-packages/) . On Google Colab, all the libraries you will need have already been installed, you just need to import them.  \n",
        "\n",
        "Before we use a library, we need to let python know that we want to use the library. We do this by importing a library. To import a library we use the following line of code: \n",
        "\n",
        "```\n",
        "import <library-name>\n",
        "```\n",
        "\n",
        "We can include this line anywhere in our code before we use the library, but normally we include it at the top of the file.  \n",
        "\n",
        "Sometimes library names can be long or confusing, and typing them out repeatedly can be annoying. We can also give libraries nick-names or aliases using the following syntax:\n",
        "\n",
        "```\n",
        "import <library-name> as <alias>\n",
        "```\n",
        "\n",
        "**Working with Pandas**  \n",
        "Pandas is a library for working with csv files or other forms of data.\n",
        "\n",
        "At times, the input data we plan to use to train our machine learning algorithms is messy (Data points are missing or mislabeled) Working with libraries such as pandas is a common way of fixing or *cleaning* the data prior to building a model.\n",
        "\n",
        "See the code below for a tutorial on pandas"
      ]
    },
    {
      "cell_type": "code",
      "metadata": {
        "id": "sH8ecAqm25bg",
        "colab": {
          "base_uri": "https://localhost:8080/",
          "height": 204
        },
        "outputId": "5e562ce8-26e6-4c6e-ce4a-e7173b970ad8"
      },
      "source": [
        "# df is a dataframe (think of it as a table)\n",
        "# Each row represents a data point, and each column represents\n",
        "# a property of that sample\n",
        "\n",
        "# If were not working online this command will load in our dataset\n",
        "# pd.read_csv('file_name')\n",
        "\n",
        "# To see the names of the columns and the first five data points type\n",
        "df.head()"
      ],
      "execution_count": null,
      "outputs": [
        {
          "output_type": "execute_result",
          "data": {
            "text/html": [
              "<div>\n",
              "<style scoped>\n",
              "    .dataframe tbody tr th:only-of-type {\n",
              "        vertical-align: middle;\n",
              "    }\n",
              "\n",
              "    .dataframe tbody tr th {\n",
              "        vertical-align: top;\n",
              "    }\n",
              "\n",
              "    .dataframe thead th {\n",
              "        text-align: right;\n",
              "    }\n",
              "</style>\n",
              "<table border=\"1\" class=\"dataframe\">\n",
              "  <thead>\n",
              "    <tr style=\"text-align: right;\">\n",
              "      <th></th>\n",
              "      <th>Unnamed: 0</th>\n",
              "      <th>Calories</th>\n",
              "      <th>Fat (g)</th>\n",
              "      <th>Carb. (g)</th>\n",
              "      <th>Fiber (g)</th>\n",
              "      <th>Protein</th>\n",
              "      <th>Sodium</th>\n",
              "    </tr>\n",
              "  </thead>\n",
              "  <tbody>\n",
              "    <tr>\n",
              "      <th>0</th>\n",
              "      <td>Cool Lime Starbucks Refreshers™ Beverage</td>\n",
              "      <td>45</td>\n",
              "      <td>0</td>\n",
              "      <td>11</td>\n",
              "      <td>0</td>\n",
              "      <td>0</td>\n",
              "      <td>10</td>\n",
              "    </tr>\n",
              "    <tr>\n",
              "      <th>1</th>\n",
              "      <td>Ombré Pink Drink</td>\n",
              "      <td>-</td>\n",
              "      <td>-</td>\n",
              "      <td>-</td>\n",
              "      <td>-</td>\n",
              "      <td>-</td>\n",
              "      <td>-</td>\n",
              "    </tr>\n",
              "    <tr>\n",
              "      <th>2</th>\n",
              "      <td>Pink Drink</td>\n",
              "      <td>-</td>\n",
              "      <td>-</td>\n",
              "      <td>-</td>\n",
              "      <td>-</td>\n",
              "      <td>-</td>\n",
              "      <td>-</td>\n",
              "    </tr>\n",
              "    <tr>\n",
              "      <th>3</th>\n",
              "      <td>Strawberry Acai Starbucks Refreshers™ Beverage</td>\n",
              "      <td>80</td>\n",
              "      <td>0</td>\n",
              "      <td>18</td>\n",
              "      <td>1</td>\n",
              "      <td>0</td>\n",
              "      <td>10</td>\n",
              "    </tr>\n",
              "    <tr>\n",
              "      <th>4</th>\n",
              "      <td>Very Berry Hibiscus Starbucks Refreshers™ Beve...</td>\n",
              "      <td>60</td>\n",
              "      <td>0</td>\n",
              "      <td>14</td>\n",
              "      <td>1</td>\n",
              "      <td>0</td>\n",
              "      <td>10</td>\n",
              "    </tr>\n",
              "  </tbody>\n",
              "</table>\n",
              "</div>"
            ],
            "text/plain": [
              "                                          Unnamed: 0 Calories  ... Protein Sodium\n",
              "0           Cool Lime Starbucks Refreshers™ Beverage       45  ...       0     10\n",
              "1                                   Ombré Pink Drink        -  ...       -      -\n",
              "2                                         Pink Drink        -  ...       -      -\n",
              "3     Strawberry Acai Starbucks Refreshers™ Beverage       80  ...       0     10\n",
              "4  Very Berry Hibiscus Starbucks Refreshers™ Beve...       60  ...       0     10\n",
              "\n",
              "[5 rows x 7 columns]"
            ]
          },
          "metadata": {
            "tags": []
          },
          "execution_count": 3
        }
      ]
    },
    {
      "cell_type": "code",
      "metadata": {
        "id": "FYkaNDg4mmWU",
        "colab": {
          "base_uri": "https://localhost:8080/",
          "height": 34
        },
        "outputId": "77735586-7715-4042-ac02-9f37bfa2323a"
      },
      "source": [
        "# We can see the number of samples our length of the dataframe using\n",
        "print(len(df))"
      ],
      "execution_count": null,
      "outputs": [
        {
          "output_type": "stream",
          "text": [
            "177\n"
          ],
          "name": "stdout"
        }
      ]
    },
    {
      "cell_type": "code",
      "metadata": {
        "id": "Znss7JIDOebm",
        "colab": {
          "base_uri": "https://localhost:8080/",
          "height": 173
        },
        "outputId": "a174fa86-bfb9-4b1e-8367-8fce599fff3f"
      },
      "source": [
        "# # We can also see some useful properties (mean, minimum value\n",
        "# # maximum value, etc ...) from our dataframe using:\n",
        "df.describe()"
      ],
      "execution_count": null,
      "outputs": [
        {
          "output_type": "execute_result",
          "data": {
            "text/html": [
              "<div>\n",
              "<style scoped>\n",
              "    .dataframe tbody tr th:only-of-type {\n",
              "        vertical-align: middle;\n",
              "    }\n",
              "\n",
              "    .dataframe tbody tr th {\n",
              "        vertical-align: top;\n",
              "    }\n",
              "\n",
              "    .dataframe thead th {\n",
              "        text-align: right;\n",
              "    }\n",
              "</style>\n",
              "<table border=\"1\" class=\"dataframe\">\n",
              "  <thead>\n",
              "    <tr style=\"text-align: right;\">\n",
              "      <th></th>\n",
              "      <th>Unnamed: 0</th>\n",
              "      <th>Calories</th>\n",
              "      <th>Fat (g)</th>\n",
              "      <th>Carb. (g)</th>\n",
              "      <th>Fiber (g)</th>\n",
              "      <th>Protein</th>\n",
              "      <th>Sodium</th>\n",
              "    </tr>\n",
              "  </thead>\n",
              "  <tbody>\n",
              "    <tr>\n",
              "      <th>count</th>\n",
              "      <td>177</td>\n",
              "      <td>177</td>\n",
              "      <td>177</td>\n",
              "      <td>177</td>\n",
              "      <td>177</td>\n",
              "      <td>177</td>\n",
              "      <td>177</td>\n",
              "    </tr>\n",
              "    <tr>\n",
              "      <th>unique</th>\n",
              "      <td>154</td>\n",
              "      <td>30</td>\n",
              "      <td>15</td>\n",
              "      <td>34</td>\n",
              "      <td>8</td>\n",
              "      <td>17</td>\n",
              "      <td>25</td>\n",
              "    </tr>\n",
              "    <tr>\n",
              "      <th>top</th>\n",
              "      <td>Tazo® Bottled White Cranberry</td>\n",
              "      <td>-</td>\n",
              "      <td>-</td>\n",
              "      <td>-</td>\n",
              "      <td>-</td>\n",
              "      <td>-</td>\n",
              "      <td>-</td>\n",
              "    </tr>\n",
              "    <tr>\n",
              "      <th>freq</th>\n",
              "      <td>2</td>\n",
              "      <td>85</td>\n",
              "      <td>85</td>\n",
              "      <td>85</td>\n",
              "      <td>85</td>\n",
              "      <td>85</td>\n",
              "      <td>85</td>\n",
              "    </tr>\n",
              "  </tbody>\n",
              "</table>\n",
              "</div>"
            ],
            "text/plain": [
              "                           Unnamed: 0 Calories Fat (g)  ... Fiber (g) Protein Sodium\n",
              "count                             177      177     177  ...       177     177    177\n",
              "unique                            154       30      15  ...         8      17     25\n",
              "top     Tazo® Bottled White Cranberry        -       -  ...         -       -      -\n",
              "freq                                2       85      85  ...        85      85     85\n",
              "\n",
              "[4 rows x 7 columns]"
            ]
          },
          "metadata": {
            "tags": []
          },
          "execution_count": 5
        }
      ]
    },
    {
      "cell_type": "code",
      "metadata": {
        "id": "aqJa8Wvnnmdm",
        "colab": {
          "base_uri": "https://localhost:8080/",
          "height": 221
        },
        "outputId": "41b4a454-bf1d-41e4-e6ff-efa4420f1e36"
      },
      "source": [
        "# To return the values of a specific column, much like in an array use df[<column name>]\n",
        "# This will return the panda equivalent of an array\n",
        "\n",
        "my_var = df['Calories']\n",
        "\n",
        "print(my_var)"
      ],
      "execution_count": null,
      "outputs": [
        {
          "output_type": "stream",
          "text": [
            "0       45\n",
            "1        -\n",
            "2        -\n",
            "3       80\n",
            "4       60\n",
            "      ... \n",
            "172    320\n",
            "173    300\n",
            "174      -\n",
            "175      -\n",
            "176      -\n",
            "Name: Calories, Length: 177, dtype: object\n"
          ],
          "name": "stdout"
        }
      ]
    },
    {
      "cell_type": "code",
      "metadata": {
        "id": "cqBTwKqZRMsx"
      },
      "source": [
        "# Get a description of a single column\n",
        "df['Calories'].describe()"
      ],
      "execution_count": null,
      "outputs": []
    },
    {
      "cell_type": "code",
      "metadata": {
        "id": "mCWI_ZYqPxYz",
        "colab": {
          "base_uri": "https://localhost:8080/",
          "height": 34
        },
        "outputId": "a2d95e6d-ed90-43ed-ddbc-067e456f9bfe"
      },
      "source": [
        "# Let's see what the blank fields are\n",
        "# We can see there's a blank space at 1\n",
        "print(my_var[1])"
      ],
      "execution_count": null,
      "outputs": [
        {
          "output_type": "stream",
          "text": [
            "nan\n"
          ],
          "name": "stdout"
        }
      ]
    },
    {
      "cell_type": "code",
      "metadata": {
        "id": "eenhs4s3QSRI"
      },
      "source": [
        "# Replace the '-' characters with something that pandas recognizes\n",
        "my_var.replace('-', np.nan, inplace=True)"
      ],
      "execution_count": null,
      "outputs": []
    },
    {
      "cell_type": "code",
      "metadata": {
        "id": "VLBqW7jwQu9M"
      },
      "source": [
        "# Remove all the blank spaces\n",
        "df.dropna(subset=['Calories'], inplace=True)\n",
        "\n",
        "# Print the calorie column again\n",
        "print(df['Calories'])"
      ],
      "execution_count": null,
      "outputs": []
    },
    {
      "cell_type": "code",
      "metadata": {
        "id": "NGcc09IUPFF3",
        "colab": {
          "base_uri": "https://localhost:8080/",
          "height": 419
        },
        "outputId": "eebf56d6-add9-4f9a-efe7-c7acf07f4a58"
      },
      "source": [
        "# We can sort the entire dataframe by df.sort_values(by=<column name>)\n",
        "df.sort_values(by='Calories')"
      ],
      "execution_count": null,
      "outputs": [
        {
          "output_type": "execute_result",
          "data": {
            "text/html": [
              "<div>\n",
              "<style scoped>\n",
              "    .dataframe tbody tr th:only-of-type {\n",
              "        vertical-align: middle;\n",
              "    }\n",
              "\n",
              "    .dataframe tbody tr th {\n",
              "        vertical-align: top;\n",
              "    }\n",
              "\n",
              "    .dataframe thead th {\n",
              "        text-align: right;\n",
              "    }\n",
              "</style>\n",
              "<table border=\"1\" class=\"dataframe\">\n",
              "  <thead>\n",
              "    <tr style=\"text-align: right;\">\n",
              "      <th></th>\n",
              "      <th>Unnamed: 0</th>\n",
              "      <th>Calories</th>\n",
              "      <th>Fat (g)</th>\n",
              "      <th>Carb. (g)</th>\n",
              "      <th>Fiber (g)</th>\n",
              "      <th>Protein</th>\n",
              "      <th>Sodium</th>\n",
              "    </tr>\n",
              "  </thead>\n",
              "  <tbody>\n",
              "    <tr>\n",
              "      <th>176</th>\n",
              "      <td>Orange Cream Soda</td>\n",
              "      <td>-</td>\n",
              "      <td>-</td>\n",
              "      <td>-</td>\n",
              "      <td>-</td>\n",
              "      <td>-</td>\n",
              "      <td>-</td>\n",
              "    </tr>\n",
              "    <tr>\n",
              "      <th>75</th>\n",
              "      <td>Starbucks® Refreshers™ - Black Cherry Limeade ...</td>\n",
              "      <td>-</td>\n",
              "      <td>-</td>\n",
              "      <td>-</td>\n",
              "      <td>-</td>\n",
              "      <td>-</td>\n",
              "      <td>-</td>\n",
              "    </tr>\n",
              "    <tr>\n",
              "      <th>74</th>\n",
              "      <td>Starbucks® Low Calorie Iced Coffee + Milk</td>\n",
              "      <td>-</td>\n",
              "      <td>-</td>\n",
              "      <td>-</td>\n",
              "      <td>-</td>\n",
              "      <td>-</td>\n",
              "      <td>-</td>\n",
              "    </tr>\n",
              "    <tr>\n",
              "      <th>148</th>\n",
              "      <td>Cinnamon Roll Frappuccino® Blended Coffee</td>\n",
              "      <td>-</td>\n",
              "      <td>-</td>\n",
              "      <td>-</td>\n",
              "      <td>-</td>\n",
              "      <td>-</td>\n",
              "      <td>-</td>\n",
              "    </tr>\n",
              "    <tr>\n",
              "      <th>149</th>\n",
              "      <td>Coffee Frappuccino® Blended Coffee</td>\n",
              "      <td>-</td>\n",
              "      <td>-</td>\n",
              "      <td>-</td>\n",
              "      <td>-</td>\n",
              "      <td>-</td>\n",
              "      <td>-</td>\n",
              "    </tr>\n",
              "    <tr>\n",
              "      <th>...</th>\n",
              "      <td>...</td>\n",
              "      <td>...</td>\n",
              "      <td>...</td>\n",
              "      <td>...</td>\n",
              "      <td>...</td>\n",
              "      <td>...</td>\n",
              "      <td>...</td>\n",
              "    </tr>\n",
              "    <tr>\n",
              "      <th>18</th>\n",
              "      <td>Shaken Sweet Tea</td>\n",
              "      <td>80</td>\n",
              "      <td>0</td>\n",
              "      <td>19</td>\n",
              "      <td>0</td>\n",
              "      <td>0</td>\n",
              "      <td>10</td>\n",
              "    </tr>\n",
              "    <tr>\n",
              "      <th>3</th>\n",
              "      <td>Strawberry Acai Starbucks Refreshers™ Beverage</td>\n",
              "      <td>80</td>\n",
              "      <td>0</td>\n",
              "      <td>18</td>\n",
              "      <td>1</td>\n",
              "      <td>0</td>\n",
              "      <td>10</td>\n",
              "    </tr>\n",
              "    <tr>\n",
              "      <th>55</th>\n",
              "      <td>Starbucks Refreshers™ Raspberry Pomegranate</td>\n",
              "      <td>90</td>\n",
              "      <td>0</td>\n",
              "      <td>27</td>\n",
              "      <td>0</td>\n",
              "      <td>0</td>\n",
              "      <td>0</td>\n",
              "    </tr>\n",
              "    <tr>\n",
              "      <th>56</th>\n",
              "      <td>Starbucks Refreshers™ Strawberry Lemonade</td>\n",
              "      <td>90</td>\n",
              "      <td>0</td>\n",
              "      <td>27</td>\n",
              "      <td>0</td>\n",
              "      <td>0</td>\n",
              "      <td>0</td>\n",
              "    </tr>\n",
              "    <tr>\n",
              "      <th>37</th>\n",
              "      <td>Teavana® Shaken Iced Passion Tango™ Tea Lemonade</td>\n",
              "      <td>90</td>\n",
              "      <td>0</td>\n",
              "      <td>24</td>\n",
              "      <td>0</td>\n",
              "      <td>0</td>\n",
              "      <td>0</td>\n",
              "    </tr>\n",
              "  </tbody>\n",
              "</table>\n",
              "<p>177 rows × 7 columns</p>\n",
              "</div>"
            ],
            "text/plain": [
              "                                            Unnamed: 0 Calories  ... Protein Sodium\n",
              "176                                  Orange Cream Soda        -  ...       -      -\n",
              "75   Starbucks® Refreshers™ - Black Cherry Limeade ...        -  ...       -      -\n",
              "74           Starbucks® Low Calorie Iced Coffee + Milk        -  ...       -      -\n",
              "148          Cinnamon Roll Frappuccino® Blended Coffee        -  ...       -      -\n",
              "149                 Coffee Frappuccino® Blended Coffee        -  ...       -      -\n",
              "..                                                 ...      ...  ...     ...    ...\n",
              "18                                    Shaken Sweet Tea       80  ...       0     10\n",
              "3       Strawberry Acai Starbucks Refreshers™ Beverage       80  ...       0     10\n",
              "55         Starbucks Refreshers™ Raspberry Pomegranate       90  ...       0      0\n",
              "56           Starbucks Refreshers™ Strawberry Lemonade       90  ...       0      0\n",
              "37    Teavana® Shaken Iced Passion Tango™ Tea Lemonade       90  ...       0      0\n",
              "\n",
              "[177 rows x 7 columns]"
            ]
          },
          "metadata": {
            "tags": []
          },
          "execution_count": 7
        }
      ]
    },
    {
      "cell_type": "markdown",
      "metadata": {
        "id": "ViJnu3_MPj-E"
      },
      "source": [
        "### Challenge Time\n",
        "Check out one of the below datasets. Download the dataset, and begin to use what we covered in pandas to explore it. Try to answer the following questions for as many datasets as you can.\n",
        "\n",
        "Some popular datasets to check out are:\n",
        "* [Digimon Dataset](https://www.kaggle.com/rtatman/digidb)\n",
        "* [UFO Sightings Dataset](https://www.kaggle.com/NUFORC/ufo-sightings)\n",
        "* [80 Cereals Dataset](https://www.kaggle.com/crawford/80-cereals)\n",
        "* [Lego Dataset](https://www.kaggle.com/rtatman/lego-database)\n",
        "* [Metal Music Dataset](https://www.kaggle.com/mrpantherson/metal-by-nation/)\n",
        "* [1000 Camera Dataset](https://www.kaggle.com/crawford/1000-cameras-dataset/)\n",
        "* [UK Macroeconimic Dataset](https://www.kaggle.com/bank-of-england/a-millennium-of-macroeconomic-data)\n",
        "* [Gene Expression Dataset](https://www.kaggle.com/crawford/gene-expression)\n",
        "* [College Salaries*](https://www.kaggle.com/wsj/college-salaries) \n",
        "\n",
        "\n",
        "**Challenge - requires cleaning*. \n"
      ]
    },
    {
      "cell_type": "code",
      "metadata": {
        "id": "qNujLSADPnlJ"
      },
      "source": [
        "# Load in your dataset (copy the code from above)\n",
        "\n",
        "# How many entries are in the dataset??\n",
        "\n",
        "# What fields are in the dataset?\n",
        "\n",
        "# What type of data does each field represent?\n",
        "\n",
        "# How many unique elements are in each column\n",
        "\n",
        "# Challenge - Try to remove all of the blank columns in one of your datasets"
      ],
      "execution_count": null,
      "outputs": []
    }
  ]
}