{
  "nbformat": 4,
  "nbformat_minor": 0,
  "metadata": {
    "colab": {
      "name": "Thanhbinh Nguyen_ML_Lesson4.ipynb",
      "provenance": [],
      "collapsed_sections": [],
      "toc_visible": true,
      "include_colab_link": true
    },
    "kernelspec": {
      "name": "python3",
      "display_name": "Python 3"
    }
  },
  "cells": [
    {
      "cell_type": "markdown",
      "metadata": {
        "id": "view-in-github",
        "colab_type": "text"
      },
      "source": [
        "<a href=\"https://colab.research.google.com/github/TbinhCodeNext/machineLearningClubTerm1/blob/main/Thanhbinh_Nguyen_ML_Lesson4.ipynb\" target=\"_parent\"><img src=\"https://colab.research.google.com/assets/colab-badge.svg\" alt=\"Open In Colab\"/></a>"
      ]
    },
    {
      "cell_type": "markdown",
      "metadata": {
        "id": "BkxmgGMTFb2J"
      },
      "source": [
        "# Google Club Next\n",
        "## Lesson 4 : Paramterized Models\n"
      ]
    },
    {
      "cell_type": "markdown",
      "metadata": {
        "id": "W7nnGwsVCZHM"
      },
      "source": [
        "### Functions\n",
        "\n",
        "This is what a function in python looks like\n",
        "\n",
        "```\n",
        "def function_name(parameters):\n",
        "  # Function code goes here\n",
        "  # Remember that indents are important\n",
        "\n",
        "\n",
        "# finally we can call our function with ()\n",
        "function_name()\n",
        "```\n",
        "\n",
        "Here is an example countdown function"
      ]
    },
    {
      "cell_type": "code",
      "metadata": {
        "id": "tirSU8Om4-xt"
      },
      "source": [
        "import keras\n",
        "from tensorflow.keras import layers\n",
        "\n",
        "INPUT_SIZE = 5\n",
        "OUTPUT_SIZE = 3\n",
        "\n",
        "model = keras.Sequential([\n",
        "        layers.Dense(OUTPUT_SIZE, input_shape=[INPUT_SIZE])                  \n",
        "])\n",
        "\n",
        "model.compile(loss='mean_squared_error', optimizer=\"adam\")\n"
      ],
      "execution_count": null,
      "outputs": []
    },
    {
      "cell_type": "code",
      "metadata": {
        "id": "fjaFIhUFCjYG"
      },
      "source": [
        "def countdown(num):\n",
        "  for i in range(num, 0, -1):\n",
        "    print(str(i) + \" ...\")\n",
        "  print(\"Blast Off!\")\n",
        "\n",
        "countdown(10)"
      ],
      "execution_count": null,
      "outputs": []
    },
    {
      "cell_type": "markdown",
      "metadata": {
        "id": "wSJFG6e3OrDo"
      },
      "source": [
        "#### Arguments\n",
        "\n",
        "We can pass any type of variable into a function, including a list\n"
      ]
    },
    {
      "cell_type": "code",
      "metadata": {
        "id": "RAObhtb4Oohm",
        "colab": {
          "base_uri": "https://localhost:8080/"
        },
        "outputId": "1ecab833-a7c3-4557-ab30-ceaf8938543c"
      },
      "source": [
        "# We could rewrite the function above as\n",
        "def countdown(nums):\n",
        "  for i in nums:\n",
        "    print(str(i) + ' ...')\n",
        "  print(\"Blast Off!\")\n",
        "\n",
        "countdown([10, 9, 8, 7, 6, 5, 4, 3, 2, 1])"
      ],
      "execution_count": null,
      "outputs": [
        {
          "output_type": "stream",
          "text": [
            "10 ...\n",
            "9 ...\n",
            "8 ...\n",
            "7 ...\n",
            "6 ...\n",
            "5 ...\n",
            "4 ...\n",
            "3 ...\n",
            "2 ...\n",
            "1 ...\n",
            "Blast Off!\n"
          ],
          "name": "stdout"
        }
      ]
    },
    {
      "cell_type": "code",
      "metadata": {
        "id": "OVM1U0RqHoZ5"
      },
      "source": [
        "# Excercise: Write a function that:\n",
        "# takes 1 parameter, num, as input\n",
        "# and returns the sum of all the numbers\n",
        "# greater than 0 and less than or equal to num\n",
        "\n",
        "# for example function(10) should return 55\n",
        "\n",
        "# Write your function here\n",
        "\n",
        "def function(num):\n",
        "  return_num = 0\n",
        "\n",
        "  for i in range(num + 1):\n",
        "    return_num += i\n",
        "\n",
        "  return return_num\n",
        "\n",
        "# Test out your function by passing in 12. You should get 78."
      ],
      "execution_count": null,
      "outputs": []
    },
    {
      "cell_type": "markdown",
      "metadata": {
        "id": "rH2OlfZjHhZ5"
      },
      "source": [
        "Python functions can take multiple arguments\n",
        "\n",
        "```\n",
        "def example(arg1, arg2, arg3):\n",
        "  ...\n",
        "```\n",
        "\n",
        "When we call our code we need to be sure to use the correct number of arguments\n",
        "\n",
        "```\n",
        "example(arg1, arg2) # This will produce an error\n",
        "example(arg1, arg2, arg3) # This is fine\n",
        "```"
      ]
    },
    {
      "cell_type": "code",
      "metadata": {
        "id": "ENIVtFRqIiy-"
      },
      "source": [
        "# Write a function that takes two arguments, and tests if they are equivalent\n",
        "# If they are the same the function returns true, else it returns false.\n",
        "# Example function(\"dog\", 2) returns false\n",
        "# function (3, 3) returns true\n",
        "\n",
        "# Write your function here\n",
        "\n",
        "\n",
        "# Test the function with input (2.0, 2)"
      ],
      "execution_count": null,
      "outputs": []
    },
    {
      "cell_type": "markdown",
      "metadata": {
        "id": "N6Az3dD4M8__"
      },
      "source": [
        "If you want to pass an arbitrary amount of arguments into a function use *\n",
        "\n",
        "```\n",
        "def function_name(*param)\n",
        "      ....\n",
        "```\n",
        "\n",
        "Conventionally the parameter is named args when we write this type of function"
      ]
    },
    {
      "cell_type": "code",
      "metadata": {
        "id": "BdZJGd2iNUAq"
      },
      "source": [
        "def list_names(*args):\n",
        "  for name in args:\n",
        "    print(name)\n",
        "\n",
        "list_names(\"Mike\", \"Nick\", \"Sam\")\n",
        "print('--------------')\n",
        "list_names(\"Alex\", \"Vanessa\", \"Bezankeng\", \"Alyssa\")"
      ],
      "execution_count": null,
      "outputs": []
    },
    {
      "cell_type": "code",
      "metadata": {
        "id": "38IGDMVdN9I3"
      },
      "source": [
        "# Write a function that will add an abitrary amount of numbers\n",
        "# example function(2, 4, 6) will return 12\n",
        "\n",
        "# Write function here\n",
        "\n",
        "# Test with (5, 5, 2, 2, 2, 2, 2) which should return 20\n",
        "\n",
        "# Challenge test (\"dog\", 2, 2). What does your function return?"
      ],
      "execution_count": null,
      "outputs": []
    },
    {
      "cell_type": "markdown",
      "metadata": {
        "id": "bkzJ1rp_JO-_"
      },
      "source": [
        "*Advanced Note:* Python does support function overloading (If you don't know what this is that's fine, go ahead to the next section), but you need to specify the variable types each function will take. One of the ways to do this is as shown below"
      ]
    },
    {
      "cell_type": "code",
      "metadata": {
        "id": "NqdAN1JLLMMB"
      },
      "source": [
        "# Overloading example\n",
        "!pip install multipledispatch\n",
        "from multipledispatch import dispatch \n",
        "\n",
        "@dispatch(int, int)\n",
        "def add(num1, num2):\n",
        "  print(\"First Function\")\n",
        "  return num1 + num2\n",
        "\n",
        "@dispatch(int, int, int)\n",
        "def add(num1, num2, num3):\n",
        "  print(\"Second Function\")\n",
        "  return num1 + num2 + num3\n",
        "\n",
        "@dispatch(float, float, float)\n",
        "def add(num1, num2, num3):\n",
        "  print(\"Third Function\")\n",
        "  return num1 + num2 + num3\n",
        "\n",
        "print(add(1, 2))\n",
        "print(add(1, 2, 3))\n",
        "print(add(4.0, 5.0, 6.0))"
      ],
      "execution_count": null,
      "outputs": []
    },
    {
      "cell_type": "markdown",
      "metadata": {
        "id": "eBTxKjX1PXUC"
      },
      "source": [
        "##### Keyword Arguments\n",
        "We can also pass arguments into python using the argument name\n",
        "\n",
        "```\n",
        "def example(num1, num2)\n",
        "  ...\n",
        "\n",
        "example(num1=value, num2=value)\n",
        "```"
      ]
    },
    {
      "cell_type": "code",
      "metadata": {
        "id": "71Lt7-QxRooB"
      },
      "source": [
        "def subtract(num1, num2):\n",
        "  return num1 - num2\n",
        "\n",
        "# These will do the same thing\n",
        "print(subtract(num1=10, num2=5))\n",
        "print(subtract(num2=5, num1=10))"
      ],
      "execution_count": null,
      "outputs": []
    },
    {
      "cell_type": "markdown",
      "metadata": {
        "id": "2XT6UFeZRG5T"
      },
      "source": [
        "#### Default Arguments\n",
        "If we typically know what an argument value will be, instead of passing it into the function each time, we can give it a default value, in the function header.\n",
        "\n",
        "```\n",
        "def example(default_val=1):\n",
        "  ...\n",
        "```\n",
        "\n",
        "This means that when we call the example function, we have the option to pass in the default_val argument. If we don't pass in a value, default_val will be one or whatever we set the default to. If we do pass in an argument, default_val will be whatever the value of that argument is."
      ]
    },
    {
      "cell_type": "code",
      "metadata": {
        "id": "uazwwIsLS7mq"
      },
      "source": [
        "def example(default_val = 1):\n",
        "  print(\"Default Value is \" + str(default_val))\n",
        "\n",
        "# Print out the default value\n",
        "example()\n",
        "\n",
        "# Print out the argument passed in\n",
        "example(4)"
      ],
      "execution_count": null,
      "outputs": []
    },
    {
      "cell_type": "markdown",
      "metadata": {
        "id": "ttF99eiyTL_1"
      },
      "source": [
        "We can include a mix of default and non-default arguments in our function, but the default arguments must come after all of the non-default arguments\n",
        "\n",
        "```\n",
        "def example(param1, param2, param3, default1=1, default2=2, default3=3):\n",
        "  ...\n",
        "```"
      ]
    },
    {
      "cell_type": "code",
      "metadata": {
        "id": "SUIF1NB-TnA8"
      },
      "source": [
        "def combine(num1, num2, opt=\"add\"):\n",
        "  if opt == \"add\":\n",
        "    return num1 + num2\n",
        "  elif opt == \"subtract\":\n",
        "    return num1 - num2\n",
        "  else:\n",
        "    return 0\n",
        "\n",
        "print(combine(12, 2))\n",
        "print(combine(12, 2, \"subtract\"))\n",
        "print(combine(12, 2, \"multiple\"))"
      ],
      "execution_count": null,
      "outputs": []
    },
    {
      "cell_type": "code",
      "metadata": {
        "id": "3zx35VslzR_3"
      },
      "source": [
        "# Write your function that takes arbitrary arguments, so that it will either add or multiply them together.\n",
        "# If the choice is not specified, the function should default to adding values together. If an invalid option\n",
        "# is specified return 0.\n",
        "# Example function(1,2 ,3, 4, \"add\") will return 10 and function(1, 2, 3, \"mult\") will return 6.\n",
        "# function(1, 2, 3, 4) will also return 10\n",
        "\n",
        "# Write function here\n",
        "\n",
        "# Hint you will need to call your function using keywords to specify the option\n",
        "# my_func(1, 2, 3, 4, 5, opt=\"mult\")\n",
        "\n",
        "# Test with function(10, 20, .4, opt=\"mult\") should return 80\n",
        "# function(10, 20, .4) should return 30.4\n",
        "# function(10, 20, opt=\"subtract\") should return 0"
      ],
      "execution_count": null,
      "outputs": []
    },
    {
      "cell_type": "markdown",
      "metadata": {
        "id": "vLeZ6FBuQeOy"
      },
      "source": [
        "#### Return\n",
        "\n",
        "Just like we can pass any type of variable into a python function we can also return any value from the function.\n",
        "\n",
        "```\n",
        "def do_something():\n",
        "  # We do something here\n",
        "\n",
        "  return value\n",
        "```\n",
        "Here value can be any type of variable we've seen so far.\n",
        "\n",
        "There is also a special type of function called void, that doesn't return anything\n",
        "\n",
        "```\n",
        "# Example of a void function\n",
        "def print_something():\n",
        "  print(\"hello world\")\n",
        "```"
      ]
    },
    {
      "cell_type": "markdown",
      "metadata": {
        "id": "CdPUiuquPkhh"
      },
      "source": [
        "#### Passing\n",
        "Functions in python can't be empty\n",
        "\n",
        "```\n",
        "# This will return an error\n",
        "def my_func():\n",
        "\n",
        "my_func()\n",
        "```\n",
        "\n",
        "However, if we're not sure what we want our function to do yet, we can:\n",
        "```\n",
        "# This is fine\n",
        "def my_funct():\n",
        "  pass\n",
        "my_func()\n",
        "```\n",
        "This won't do anything, but it will not throw an error"
      ]
    },
    {
      "cell_type": "code",
      "metadata": {
        "id": "cTouHsAcVHIj"
      },
      "source": [
        "def example():\n",
        "  pass\n",
        "\n",
        "example()"
      ],
      "execution_count": null,
      "outputs": []
    },
    {
      "cell_type": "markdown",
      "metadata": {
        "id": "fiAr4TsHpkWq"
      },
      "source": [
        "### Linear Regression\n",
        "#### Loading in our Dataset\n",
        "\n",
        "Go to: https://www.kaggle.com/uciml/red-wine-quality-cortez-et-al-2009?select=winequality-red.csv  \n",
        "and download the dataset. Load it into Colab and open it with pandas.\n",
        "We need to first load in our dataset!"
      ]
    },
    {
      "cell_type": "code",
      "metadata": {
        "id": "Or-VcKcqoeHo",
        "colab": {
          "base_uri": "https://localhost:8080/"
        },
        "outputId": "e7428f58-82ea-434e-e017-ea5d83a0e4d4"
      },
      "source": [
        "# Import pandas here\n",
        "import pandas as pd\n",
        "\n",
        "# Load in your dataset here as df\n",
        "df = pd.read_csv(\"winequality-red.csv\")\n",
        "\n",
        "#print(df.describe)\n",
        "print(df.columns)\n",
        "print(len(df.columns))\n",
        "print(len(df))"
      ],
      "execution_count": null,
      "outputs": [
        {
          "output_type": "stream",
          "text": [
            "Index(['fixed acidity', 'volatile acidity', 'citric acid', 'residual sugar',\n",
            "       'chlorides', 'free sulfur dioxide', 'total sulfur dioxide', 'density',\n",
            "       'pH', 'sulphates', 'alcohol', 'quality'],\n",
            "      dtype='object')\n",
            "12\n",
            "1599\n"
          ],
          "name": "stdout"
        }
      ]
    },
    {
      "cell_type": "code",
      "metadata": {
        "id": "it7duo0stNqA"
      },
      "source": [
        "# We will be predicting wine quality. Your data should contain several columns\n",
        "# our target will be wine quality, everything else will be a feature. How many \n",
        "# features are in our dataset? What are they?\n",
        "\n",
        "\n",
        "# How many samples are in our dataset"
      ],
      "execution_count": null,
      "outputs": []
    },
    {
      "cell_type": "code",
      "metadata": {
        "id": "2Hb8FjiWt3DE"
      },
      "source": [
        "# Run Me\n",
        "import numpy as np\n",
        "# This piece of code will split the data into X (features) and \n",
        "# Y (targets), as well as create a test and train dataset.\n",
        "data = df.to_numpy()\n",
        "split_ind = int(len(data) * .9)\n",
        "\n",
        "X = data[:split_ind, :-1]\n",
        "Y = data[:split_ind, -1]\n",
        "X_test = data[split_ind:, :-1]\n",
        "Y_test = data[split_ind:, -1]"
      ],
      "execution_count": null,
      "outputs": []
    },
    {
      "cell_type": "markdown",
      "metadata": {
        "id": "lP9FegofmaCP"
      },
      "source": [
        "#### Linear Models in Keras\n",
        "\n",
        "Keras is a layer ontop of tensorflow that let's us easily make an train parameterized models (and do deep learning). Today, we'll just be using it for linear regression.\n",
        "\n",
        "```\n",
        "INPUT_SIZE = 5 # this is the dimensionality of our input\n",
        "OUTPUT_SIZE = 3 # this is the dimensionality of our output\n",
        "# this actually defines our linear model\n",
        "model = keras.Sequential([\n",
        "  layers.Dense(OUTPUT_SIZE, input_shape=[INPUT_SIZE]),\n",
        "])\n",
        "# this tells keras what loss function and gradient descent algorithm (optimizer) we'll be using\n",
        "model.compile(loss='mean_squared_error', optimizer='adam')\n",
        "```"
      ]
    },
    {
      "cell_type": "code",
      "metadata": {
        "id": "vSCoHlv-mYDG"
      },
      "source": [
        "import keras\n",
        "from tensorflow.keras import layers\n",
        "# make a model for DATASET\n",
        "# You will need to change the input and output size in the example above.\n",
        "\n",
        "\n"
      ],
      "execution_count": null,
      "outputs": []
    },
    {
      "cell_type": "markdown",
      "metadata": {
        "id": "W_EC22MEsAdk"
      },
      "source": [
        "#### We now can train our dataset. There's many many ways of doing this\n",
        "We can, for example, interface with sklearn and have it perform cross validation\n",
        "```\n",
        "estimator = KerasRegressor(build_fn=model, epochs=100, batch_size=5)\n",
        "kfold = KFold(n_splits=10)\n",
        "results = cross_val_score(estimator, X, Y, cv=kfold)\n",
        "```\n",
        "\n",
        "Alternatively, we can train it ourself\n",
        "```\n",
        "model.fit(X, Y, epochs=100, batch_size=5)\n",
        "```"
      ]
    },
    {
      "cell_type": "code",
      "metadata": {
        "id": "-Nxj3e_Pu5c6"
      },
      "source": [
        "# fit your model to your dataset\n",
        "# Use variables X and Y for the data.\n",
        "from keras.wrappers.scikit_learn import KerasRegressor\n",
        "from sklearn.model_selection import cross_val_score, KFold"
      ],
      "execution_count": null,
      "outputs": []
    },
    {
      "cell_type": "markdown",
      "metadata": {
        "id": "5qLxVkNxhVpp"
      },
      "source": [
        "#### Finally, we can test our dataset\n",
        "We can have our model predict outputs by using the predict function\n",
        "```\n",
        "model.predict(X)\n",
        "model.predict([1,2])\n",
        "```"
      ]
    },
    {
      "cell_type": "code",
      "metadata": {
        "id": "ZDKjFNffD3sD"
      },
      "source": [
        "# test out your model! and try to come up with a prediction for the X_test variable. Y_test contains the actual results."
      ],
      "execution_count": null,
      "outputs": []
    }
  ]
}